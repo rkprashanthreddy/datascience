{
 "cells": [
  {
   "cell_type": "markdown",
   "id": "93b839c5",
   "metadata": {},
   "source": [
    "# Scaling In Machine Learning Practice"
   ]
  },
  {
   "cell_type": "markdown",
   "id": "856b97dc",
   "metadata": {},
   "source": [
    "#### Scaling: \n",
    "         Scale down continuous values either dependent or independent to range -1 to 1 or 0 to 1 so that fluctuating ranges \n",
    "         i.e columns having with different scaled values high values and low values make model difficult and time consume \n",
    "         to calculate distance for data point from other all data points hence scale down values to lower equal ranges to \n",
    "         speed up model prediction in KNN.\n",
    "#### 4 Types of scaling:\n",
    "         1. StandardScaling - used lot - work on z score - z=data-mean(data)/std(data).\n",
    "         2. MinMaxScaling - sensitive to outliers in data.\n",
    "         3. RobustScaling - suitable for outliers in data.\n",
    "         4. Normalization - Rarely used."
   ]
  },
  {
   "cell_type": "markdown",
   "id": "136f3133",
   "metadata": {},
   "source": [
    "### Data Getting"
   ]
  },
  {
   "cell_type": "code",
   "execution_count": 1,
   "id": "897e8ee7",
   "metadata": {},
   "outputs": [],
   "source": [
    "# Importing Packages\n",
    "import pandas as pd"
   ]
  },
  {
   "cell_type": "code",
   "execution_count": 2,
   "id": "e8905bfc",
   "metadata": {},
   "outputs": [
    {
     "data": {
      "text/html": [
       "<div>\n",
       "<style scoped>\n",
       "    .dataframe tbody tr th:only-of-type {\n",
       "        vertical-align: middle;\n",
       "    }\n",
       "\n",
       "    .dataframe tbody tr th {\n",
       "        vertical-align: top;\n",
       "    }\n",
       "\n",
       "    .dataframe thead th {\n",
       "        text-align: right;\n",
       "    }\n",
       "</style>\n",
       "<table border=\"1\" class=\"dataframe\">\n",
       "  <thead>\n",
       "    <tr style=\"text-align: right;\">\n",
       "      <th></th>\n",
       "      <th>salary</th>\n",
       "      <th>age</th>\n",
       "    </tr>\n",
       "  </thead>\n",
       "  <tbody>\n",
       "    <tr>\n",
       "      <th>0</th>\n",
       "      <td>12000</td>\n",
       "      <td>28</td>\n",
       "    </tr>\n",
       "    <tr>\n",
       "      <th>1</th>\n",
       "      <td>20000</td>\n",
       "      <td>30</td>\n",
       "    </tr>\n",
       "    <tr>\n",
       "      <th>2</th>\n",
       "      <td>10000</td>\n",
       "      <td>50</td>\n",
       "    </tr>\n",
       "    <tr>\n",
       "      <th>3</th>\n",
       "      <td>50000</td>\n",
       "      <td>32</td>\n",
       "    </tr>\n",
       "  </tbody>\n",
       "</table>\n",
       "</div>"
      ],
      "text/plain": [
       "   salary  age\n",
       "0   12000   28\n",
       "1   20000   30\n",
       "2   10000   50\n",
       "3   50000   32"
      ]
     },
     "execution_count": 2,
     "metadata": {},
     "output_type": "execute_result"
    }
   ],
   "source": [
    "# Preparing Data\n",
    "data=pd.DataFrame({'salary':[12000,20000,10000,50000],'age':[28,30,50,32]})\n",
    "data"
   ]
  },
  {
   "cell_type": "markdown",
   "id": "c970fbb5",
   "metadata": {},
   "source": [
    "### Scaling Packages Importing "
   ]
  },
  {
   "cell_type": "code",
   "execution_count": 11,
   "id": "2bc678ac",
   "metadata": {},
   "outputs": [],
   "source": [
    "from sklearn.preprocessing import StandardScaler, MinMaxScaler, RobustScaler, normalize "
   ]
  },
  {
   "cell_type": "markdown",
   "id": "6451d3d2",
   "metadata": {},
   "source": [
    "### 1. Standard Scalling"
   ]
  },
  {
   "cell_type": "code",
   "execution_count": 8,
   "id": "a993af33",
   "metadata": {},
   "outputs": [
    {
     "data": {
      "text/html": [
       "<div>\n",
       "<style scoped>\n",
       "    .dataframe tbody tr th:only-of-type {\n",
       "        vertical-align: middle;\n",
       "    }\n",
       "\n",
       "    .dataframe tbody tr th {\n",
       "        vertical-align: top;\n",
       "    }\n",
       "\n",
       "    .dataframe thead th {\n",
       "        text-align: right;\n",
       "    }\n",
       "</style>\n",
       "<table border=\"1\" class=\"dataframe\">\n",
       "  <thead>\n",
       "    <tr style=\"text-align: right;\">\n",
       "      <th></th>\n",
       "      <th>salary</th>\n",
       "      <th>age</th>\n",
       "      <th>stdfied</th>\n",
       "    </tr>\n",
       "  </thead>\n",
       "  <tbody>\n",
       "    <tr>\n",
       "      <th>0</th>\n",
       "      <td>12000</td>\n",
       "      <td>28</td>\n",
       "      <td>-0.686161</td>\n",
       "    </tr>\n",
       "    <tr>\n",
       "      <th>1</th>\n",
       "      <td>20000</td>\n",
       "      <td>30</td>\n",
       "      <td>-0.187135</td>\n",
       "    </tr>\n",
       "    <tr>\n",
       "      <th>2</th>\n",
       "      <td>10000</td>\n",
       "      <td>50</td>\n",
       "      <td>-0.810918</td>\n",
       "    </tr>\n",
       "    <tr>\n",
       "      <th>3</th>\n",
       "      <td>50000</td>\n",
       "      <td>32</td>\n",
       "      <td>1.684214</td>\n",
       "    </tr>\n",
       "  </tbody>\n",
       "</table>\n",
       "</div>"
      ],
      "text/plain": [
       "   salary  age   stdfied\n",
       "0   12000   28 -0.686161\n",
       "1   20000   30 -0.187135\n",
       "2   10000   50 -0.810918\n",
       "3   50000   32  1.684214"
      ]
     },
     "execution_count": 8,
     "metadata": {},
     "output_type": "execute_result"
    }
   ],
   "source": [
    "# modeling\n",
    "std=StandardScaler()\n",
    "data['stdfied']=std.fit_transform(data['salary'].values.reshape(-1,1))\n",
    "data"
   ]
  },
  {
   "cell_type": "code",
   "execution_count": 10,
   "id": "b70a0188",
   "metadata": {},
   "outputs": [
    {
     "data": {
      "text/plain": [
       "array([[12000.],\n",
       "       [20000.],\n",
       "       [10000.],\n",
       "       [50000.]])"
      ]
     },
     "execution_count": 10,
     "metadata": {},
     "output_type": "execute_result"
    }
   ],
   "source": [
    "# transforming back to original values - use the model used fot fitting\n",
    "std.inverse_transform(data['stdfied'].values.reshape(-1,1))"
   ]
  },
  {
   "cell_type": "markdown",
   "id": "89b04051",
   "metadata": {},
   "source": [
    "### 2. MinMaxScaling"
   ]
  },
  {
   "cell_type": "code",
   "execution_count": 13,
   "id": "e950f02c",
   "metadata": {},
   "outputs": [
    {
     "data": {
      "text/html": [
       "<div>\n",
       "<style scoped>\n",
       "    .dataframe tbody tr th:only-of-type {\n",
       "        vertical-align: middle;\n",
       "    }\n",
       "\n",
       "    .dataframe tbody tr th {\n",
       "        vertical-align: top;\n",
       "    }\n",
       "\n",
       "    .dataframe thead th {\n",
       "        text-align: right;\n",
       "    }\n",
       "</style>\n",
       "<table border=\"1\" class=\"dataframe\">\n",
       "  <thead>\n",
       "    <tr style=\"text-align: right;\">\n",
       "      <th></th>\n",
       "      <th>salary</th>\n",
       "      <th>age</th>\n",
       "      <th>stdfied</th>\n",
       "      <th>mxfied</th>\n",
       "    </tr>\n",
       "  </thead>\n",
       "  <tbody>\n",
       "    <tr>\n",
       "      <th>0</th>\n",
       "      <td>12000</td>\n",
       "      <td>28</td>\n",
       "      <td>-0.686161</td>\n",
       "      <td>0.05</td>\n",
       "    </tr>\n",
       "    <tr>\n",
       "      <th>1</th>\n",
       "      <td>20000</td>\n",
       "      <td>30</td>\n",
       "      <td>-0.187135</td>\n",
       "      <td>0.25</td>\n",
       "    </tr>\n",
       "    <tr>\n",
       "      <th>2</th>\n",
       "      <td>10000</td>\n",
       "      <td>50</td>\n",
       "      <td>-0.810918</td>\n",
       "      <td>0.00</td>\n",
       "    </tr>\n",
       "    <tr>\n",
       "      <th>3</th>\n",
       "      <td>50000</td>\n",
       "      <td>32</td>\n",
       "      <td>1.684214</td>\n",
       "      <td>1.00</td>\n",
       "    </tr>\n",
       "  </tbody>\n",
       "</table>\n",
       "</div>"
      ],
      "text/plain": [
       "   salary  age   stdfied  mxfied\n",
       "0   12000   28 -0.686161    0.05\n",
       "1   20000   30 -0.187135    0.25\n",
       "2   10000   50 -0.810918    0.00\n",
       "3   50000   32  1.684214    1.00"
      ]
     },
     "execution_count": 13,
     "metadata": {},
     "output_type": "execute_result"
    }
   ],
   "source": [
    "# modeling\n",
    "mx=MinMaxScaler()\n",
    "data['mxfied']=mx.fit_transform(data['salary'].values.reshape(-1,1))\n",
    "data"
   ]
  },
  {
   "cell_type": "code",
   "execution_count": 14,
   "id": "6e4615d6",
   "metadata": {},
   "outputs": [
    {
     "data": {
      "text/plain": [
       "array([[12000.],\n",
       "       [20000.],\n",
       "       [10000.],\n",
       "       [50000.]])"
      ]
     },
     "execution_count": 14,
     "metadata": {},
     "output_type": "execute_result"
    }
   ],
   "source": [
    "# transforming back to original values - use the model used fot fitting\n",
    "mx.inverse_transform(data['mxfied'].values.reshape(-1,1))"
   ]
  },
  {
   "cell_type": "markdown",
   "id": "0d7e8224",
   "metadata": {},
   "source": [
    "### 3. RobustScaling"
   ]
  },
  {
   "cell_type": "code",
   "execution_count": 15,
   "id": "28338496",
   "metadata": {},
   "outputs": [
    {
     "data": {
      "text/html": [
       "<div>\n",
       "<style scoped>\n",
       "    .dataframe tbody tr th:only-of-type {\n",
       "        vertical-align: middle;\n",
       "    }\n",
       "\n",
       "    .dataframe tbody tr th {\n",
       "        vertical-align: top;\n",
       "    }\n",
       "\n",
       "    .dataframe thead th {\n",
       "        text-align: right;\n",
       "    }\n",
       "</style>\n",
       "<table border=\"1\" class=\"dataframe\">\n",
       "  <thead>\n",
       "    <tr style=\"text-align: right;\">\n",
       "      <th></th>\n",
       "      <th>salary</th>\n",
       "      <th>age</th>\n",
       "      <th>stdfied</th>\n",
       "      <th>mxfied</th>\n",
       "      <th>rbsfied</th>\n",
       "    </tr>\n",
       "  </thead>\n",
       "  <tbody>\n",
       "    <tr>\n",
       "      <th>0</th>\n",
       "      <td>12000</td>\n",
       "      <td>28</td>\n",
       "      <td>-0.686161</td>\n",
       "      <td>0.05</td>\n",
       "      <td>-0.250</td>\n",
       "    </tr>\n",
       "    <tr>\n",
       "      <th>1</th>\n",
       "      <td>20000</td>\n",
       "      <td>30</td>\n",
       "      <td>-0.187135</td>\n",
       "      <td>0.25</td>\n",
       "      <td>0.250</td>\n",
       "    </tr>\n",
       "    <tr>\n",
       "      <th>2</th>\n",
       "      <td>10000</td>\n",
       "      <td>50</td>\n",
       "      <td>-0.810918</td>\n",
       "      <td>0.00</td>\n",
       "      <td>-0.375</td>\n",
       "    </tr>\n",
       "    <tr>\n",
       "      <th>3</th>\n",
       "      <td>50000</td>\n",
       "      <td>32</td>\n",
       "      <td>1.684214</td>\n",
       "      <td>1.00</td>\n",
       "      <td>2.125</td>\n",
       "    </tr>\n",
       "  </tbody>\n",
       "</table>\n",
       "</div>"
      ],
      "text/plain": [
       "   salary  age   stdfied  mxfied  rbsfied\n",
       "0   12000   28 -0.686161    0.05   -0.250\n",
       "1   20000   30 -0.187135    0.25    0.250\n",
       "2   10000   50 -0.810918    0.00   -0.375\n",
       "3   50000   32  1.684214    1.00    2.125"
      ]
     },
     "execution_count": 15,
     "metadata": {},
     "output_type": "execute_result"
    }
   ],
   "source": [
    "# modeling\n",
    "rbs=RobustScaler()\n",
    "data['rbsfied']=rbs.fit_transform(data['salary'].values.reshape(-1,1))\n",
    "data"
   ]
  },
  {
   "cell_type": "code",
   "execution_count": 16,
   "id": "0a6c1df4",
   "metadata": {},
   "outputs": [
    {
     "data": {
      "text/plain": [
       "array([[12000.],\n",
       "       [20000.],\n",
       "       [10000.],\n",
       "       [50000.]])"
      ]
     },
     "execution_count": 16,
     "metadata": {},
     "output_type": "execute_result"
    }
   ],
   "source": [
    "# transforming back to original values - use the model used for fitting\n",
    "rbs.inverse_transform(data['rbsfied'].values.reshape(-1,1))"
   ]
  }
 ],
 "metadata": {
  "kernelspec": {
   "display_name": "Python 3 (ipykernel)",
   "language": "python",
   "name": "python3"
  },
  "language_info": {
   "codemirror_mode": {
    "name": "ipython",
    "version": 3
   },
   "file_extension": ".py",
   "mimetype": "text/x-python",
   "name": "python",
   "nbconvert_exporter": "python",
   "pygments_lexer": "ipython3",
   "version": "3.9.13"
  }
 },
 "nbformat": 4,
 "nbformat_minor": 5
}
