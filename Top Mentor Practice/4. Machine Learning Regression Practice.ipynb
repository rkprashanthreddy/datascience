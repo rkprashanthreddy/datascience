{
 "cells": [
  {
   "cell_type": "markdown",
   "id": "2aa1c08d",
   "metadata": {},
   "source": [
    "# Machine Learning Regression Practice"
   ]
  },
  {
   "cell_type": "markdown",
   "id": "69784d8a",
   "metadata": {},
   "source": [
    "1. When problem tends to be straight line or when graph ploted and trend seems straight line then it is linear and hence\n",
    "   equation to be used to define rules is straight line mathematical equation : y=mx+c\n",
    "2. In machine learning if its simple linear regression then equation to be used is: y=mx+c+E ( E: elipson/error/residual/loss )\n",
    "   i.e in simple linear regression only 1 dependent variable to be predicted and 1 independent varibale will be there.\n",
    "3. If more than 2 independent variables and 1 dependent variable is there then its is mulitple linear regression.\n",
    "4. When problem tends to be not straight line or when graph ploted and trend seems other shapes line curved / s shape etc then\n",
    "   its is not the problem of linearity , we need to be used polynomial regression for that."
   ]
  },
  {
   "cell_type": "markdown",
   "id": "211a7b04",
   "metadata": {},
   "source": [
    "# Data Loading and Preprocessing"
   ]
  },
  {
   "cell_type": "markdown",
   "id": "0881dfe5",
   "metadata": {},
   "source": [
    "#### Importing Package and Checking Datasets"
   ]
  },
  {
   "cell_type": "code",
   "execution_count": 1,
   "id": "cf497eba",
   "metadata": {},
   "outputs": [],
   "source": [
    "import pandas as pd\n",
    "import seaborn as sb"
   ]
  },
  {
   "cell_type": "code",
   "execution_count": 2,
   "id": "1acc71f5",
   "metadata": {},
   "outputs": [
    {
     "data": {
      "text/plain": [
       "['anagrams',\n",
       " 'anscombe',\n",
       " 'attention',\n",
       " 'brain_networks',\n",
       " 'car_crashes',\n",
       " 'diamonds',\n",
       " 'dots',\n",
       " 'dowjones',\n",
       " 'exercise',\n",
       " 'flights',\n",
       " 'fmri',\n",
       " 'geyser',\n",
       " 'glue',\n",
       " 'healthexp',\n",
       " 'iris',\n",
       " 'mpg',\n",
       " 'penguins',\n",
       " 'planets',\n",
       " 'seaice',\n",
       " 'taxis',\n",
       " 'tips',\n",
       " 'titanic']"
      ]
     },
     "execution_count": 2,
     "metadata": {},
     "output_type": "execute_result"
    }
   ],
   "source": [
    "sb.get_dataset_names()"
   ]
  },
  {
   "cell_type": "markdown",
   "id": "19f32152",
   "metadata": {},
   "source": [
    "#### Loading Dataset  and Analysing"
   ]
  },
  {
   "cell_type": "code",
   "execution_count": 3,
   "id": "4e5804f5",
   "metadata": {},
   "outputs": [],
   "source": [
    "mpg=sb.load_dataset('mpg')"
   ]
  },
  {
   "cell_type": "code",
   "execution_count": 4,
   "id": "c7ebc73d",
   "metadata": {},
   "outputs": [],
   "source": [
    "copied_mpg=mpg.copy()"
   ]
  },
  {
   "cell_type": "code",
   "execution_count": 5,
   "id": "bf2c03e0",
   "metadata": {},
   "outputs": [
    {
     "data": {
      "text/html": [
       "<div>\n",
       "<style scoped>\n",
       "    .dataframe tbody tr th:only-of-type {\n",
       "        vertical-align: middle;\n",
       "    }\n",
       "\n",
       "    .dataframe tbody tr th {\n",
       "        vertical-align: top;\n",
       "    }\n",
       "\n",
       "    .dataframe thead th {\n",
       "        text-align: right;\n",
       "    }\n",
       "</style>\n",
       "<table border=\"1\" class=\"dataframe\">\n",
       "  <thead>\n",
       "    <tr style=\"text-align: right;\">\n",
       "      <th></th>\n",
       "      <th>mpg</th>\n",
       "      <th>cylinders</th>\n",
       "      <th>displacement</th>\n",
       "      <th>horsepower</th>\n",
       "      <th>weight</th>\n",
       "      <th>acceleration</th>\n",
       "      <th>model_year</th>\n",
       "      <th>origin</th>\n",
       "      <th>name</th>\n",
       "    </tr>\n",
       "  </thead>\n",
       "  <tbody>\n",
       "    <tr>\n",
       "      <th>0</th>\n",
       "      <td>18.0</td>\n",
       "      <td>8</td>\n",
       "      <td>307.0</td>\n",
       "      <td>130.0</td>\n",
       "      <td>3504</td>\n",
       "      <td>12.0</td>\n",
       "      <td>70</td>\n",
       "      <td>usa</td>\n",
       "      <td>chevrolet chevelle malibu</td>\n",
       "    </tr>\n",
       "    <tr>\n",
       "      <th>1</th>\n",
       "      <td>15.0</td>\n",
       "      <td>8</td>\n",
       "      <td>350.0</td>\n",
       "      <td>165.0</td>\n",
       "      <td>3693</td>\n",
       "      <td>11.5</td>\n",
       "      <td>70</td>\n",
       "      <td>usa</td>\n",
       "      <td>buick skylark 320</td>\n",
       "    </tr>\n",
       "    <tr>\n",
       "      <th>2</th>\n",
       "      <td>18.0</td>\n",
       "      <td>8</td>\n",
       "      <td>318.0</td>\n",
       "      <td>150.0</td>\n",
       "      <td>3436</td>\n",
       "      <td>11.0</td>\n",
       "      <td>70</td>\n",
       "      <td>usa</td>\n",
       "      <td>plymouth satellite</td>\n",
       "    </tr>\n",
       "    <tr>\n",
       "      <th>3</th>\n",
       "      <td>16.0</td>\n",
       "      <td>8</td>\n",
       "      <td>304.0</td>\n",
       "      <td>150.0</td>\n",
       "      <td>3433</td>\n",
       "      <td>12.0</td>\n",
       "      <td>70</td>\n",
       "      <td>usa</td>\n",
       "      <td>amc rebel sst</td>\n",
       "    </tr>\n",
       "    <tr>\n",
       "      <th>4</th>\n",
       "      <td>17.0</td>\n",
       "      <td>8</td>\n",
       "      <td>302.0</td>\n",
       "      <td>140.0</td>\n",
       "      <td>3449</td>\n",
       "      <td>10.5</td>\n",
       "      <td>70</td>\n",
       "      <td>usa</td>\n",
       "      <td>ford torino</td>\n",
       "    </tr>\n",
       "    <tr>\n",
       "      <th>5</th>\n",
       "      <td>15.0</td>\n",
       "      <td>8</td>\n",
       "      <td>429.0</td>\n",
       "      <td>198.0</td>\n",
       "      <td>4341</td>\n",
       "      <td>10.0</td>\n",
       "      <td>70</td>\n",
       "      <td>usa</td>\n",
       "      <td>ford galaxie 500</td>\n",
       "    </tr>\n",
       "    <tr>\n",
       "      <th>6</th>\n",
       "      <td>14.0</td>\n",
       "      <td>8</td>\n",
       "      <td>454.0</td>\n",
       "      <td>220.0</td>\n",
       "      <td>4354</td>\n",
       "      <td>9.0</td>\n",
       "      <td>70</td>\n",
       "      <td>usa</td>\n",
       "      <td>chevrolet impala</td>\n",
       "    </tr>\n",
       "    <tr>\n",
       "      <th>7</th>\n",
       "      <td>14.0</td>\n",
       "      <td>8</td>\n",
       "      <td>440.0</td>\n",
       "      <td>215.0</td>\n",
       "      <td>4312</td>\n",
       "      <td>8.5</td>\n",
       "      <td>70</td>\n",
       "      <td>usa</td>\n",
       "      <td>plymouth fury iii</td>\n",
       "    </tr>\n",
       "    <tr>\n",
       "      <th>8</th>\n",
       "      <td>14.0</td>\n",
       "      <td>8</td>\n",
       "      <td>455.0</td>\n",
       "      <td>225.0</td>\n",
       "      <td>4425</td>\n",
       "      <td>10.0</td>\n",
       "      <td>70</td>\n",
       "      <td>usa</td>\n",
       "      <td>pontiac catalina</td>\n",
       "    </tr>\n",
       "    <tr>\n",
       "      <th>9</th>\n",
       "      <td>15.0</td>\n",
       "      <td>8</td>\n",
       "      <td>390.0</td>\n",
       "      <td>190.0</td>\n",
       "      <td>3850</td>\n",
       "      <td>8.5</td>\n",
       "      <td>70</td>\n",
       "      <td>usa</td>\n",
       "      <td>amc ambassador dpl</td>\n",
       "    </tr>\n",
       "  </tbody>\n",
       "</table>\n",
       "</div>"
      ],
      "text/plain": [
       "    mpg  cylinders  displacement  horsepower  weight  acceleration  \\\n",
       "0  18.0          8         307.0       130.0    3504          12.0   \n",
       "1  15.0          8         350.0       165.0    3693          11.5   \n",
       "2  18.0          8         318.0       150.0    3436          11.0   \n",
       "3  16.0          8         304.0       150.0    3433          12.0   \n",
       "4  17.0          8         302.0       140.0    3449          10.5   \n",
       "5  15.0          8         429.0       198.0    4341          10.0   \n",
       "6  14.0          8         454.0       220.0    4354           9.0   \n",
       "7  14.0          8         440.0       215.0    4312           8.5   \n",
       "8  14.0          8         455.0       225.0    4425          10.0   \n",
       "9  15.0          8         390.0       190.0    3850           8.5   \n",
       "\n",
       "   model_year origin                       name  \n",
       "0          70    usa  chevrolet chevelle malibu  \n",
       "1          70    usa          buick skylark 320  \n",
       "2          70    usa         plymouth satellite  \n",
       "3          70    usa              amc rebel sst  \n",
       "4          70    usa                ford torino  \n",
       "5          70    usa           ford galaxie 500  \n",
       "6          70    usa           chevrolet impala  \n",
       "7          70    usa          plymouth fury iii  \n",
       "8          70    usa           pontiac catalina  \n",
       "9          70    usa         amc ambassador dpl  "
      ]
     },
     "execution_count": 5,
     "metadata": {},
     "output_type": "execute_result"
    }
   ],
   "source": [
    "copied_mpg.head(10)"
   ]
  },
  {
   "cell_type": "code",
   "execution_count": 6,
   "id": "1ad19c99",
   "metadata": {},
   "outputs": [
    {
     "data": {
      "text/plain": [
       "(398, 9)"
      ]
     },
     "execution_count": 6,
     "metadata": {},
     "output_type": "execute_result"
    }
   ],
   "source": [
    "copied_mpg.shape"
   ]
  },
  {
   "cell_type": "code",
   "execution_count": 7,
   "id": "509f182b",
   "metadata": {},
   "outputs": [
    {
     "data": {
      "text/plain": [
       "Index(['mpg', 'cylinders', 'displacement', 'horsepower', 'weight',\n",
       "       'acceleration', 'model_year', 'origin', 'name'],\n",
       "      dtype='object')"
      ]
     },
     "execution_count": 7,
     "metadata": {},
     "output_type": "execute_result"
    }
   ],
   "source": [
    "copied_mpg.columns"
   ]
  },
  {
   "cell_type": "markdown",
   "id": "8cf5b72e",
   "metadata": {},
   "source": [
    "#### Data Cleaning"
   ]
  },
  {
   "cell_type": "code",
   "execution_count": 8,
   "id": "6241f2db",
   "metadata": {},
   "outputs": [
    {
     "data": {
      "text/plain": [
       "horsepower    6\n",
       "mpg           0\n",
       "dtype: int64"
      ]
     },
     "execution_count": 8,
     "metadata": {},
     "output_type": "execute_result"
    }
   ],
   "source": [
    "# Data cleaning - check for null values in horsepower and mpg\n",
    "copied_mpg[['horsepower','mpg']].isnull().sum()"
   ]
  },
  {
   "cell_type": "code",
   "execution_count": 9,
   "id": "0e526d67",
   "metadata": {},
   "outputs": [
    {
     "data": {
      "text/plain": [
       "horsepower    0\n",
       "mpg           0\n",
       "dtype: int64"
      ]
     },
     "execution_count": 9,
     "metadata": {},
     "output_type": "execute_result"
    }
   ],
   "source": [
    "# fill null values with 0\n",
    "copied_mpg['horsepower']=copied_mpg['horsepower'].fillna(0)\n",
    "copied_mpg[['horsepower','mpg']].isnull().sum()"
   ]
  },
  {
   "cell_type": "code",
   "execution_count": 10,
   "id": "bac63af8",
   "metadata": {},
   "outputs": [
    {
     "data": {
      "text/plain": [
       "mpg             0\n",
       "cylinders       0\n",
       "displacement    0\n",
       "horsepower      0\n",
       "weight          0\n",
       "acceleration    0\n",
       "model_year      0\n",
       "origin          0\n",
       "name            0\n",
       "dtype: int64"
      ]
     },
     "execution_count": 10,
     "metadata": {},
     "output_type": "execute_result"
    }
   ],
   "source": [
    " # check null values in all columns  - if any correct it\n",
    "copied_mpg.isnull().sum()"
   ]
  },
  {
   "cell_type": "markdown",
   "id": "fdce36f9",
   "metadata": {},
   "source": [
    "#### Before coontinuing further all the required steps need to accomplished priorly\n",
    "1. Data Pre processing\n",
    "2. Pattern checks\n",
    "3. Exploratory data analysis : is all params required to predict the mpg ( milage per gallon )\n",
    "4. Feature Engineering : domain knowledge and statistician required, select columns which required and check how it impact the\n",
    "   mpg or not, select features valid for prediction."
   ]
  },
  {
   "cell_type": "markdown",
   "id": "167e2179",
   "metadata": {},
   "source": [
    "# 1. Simple Linear Regression"
   ]
  },
  {
   "cell_type": "markdown",
   "id": "1e7541f6",
   "metadata": {},
   "source": [
    "Problem Statement : Predict MPG ( Milage per Gallon ) from Horsepower"
   ]
  },
  {
   "cell_type": "markdown",
   "id": "8177fd7a",
   "metadata": {},
   "source": [
    "#### Importing Neccesary Packages"
   ]
  },
  {
   "cell_type": "code",
   "execution_count": 11,
   "id": "29a9f9b5",
   "metadata": {},
   "outputs": [],
   "source": [
    "# Used for title and resizing graph\n",
    "import matplotlib.pyplot as mp\n",
    "\n",
    "# Used Machine Learning Package - scikit learn\n",
    "from sklearn.linear_model import LinearRegression"
   ]
  },
  {
   "cell_type": "markdown",
   "id": "ec729a60",
   "metadata": {},
   "source": [
    "#### Regression Plot"
   ]
  },
  {
   "cell_type": "code",
   "execution_count": 12,
   "id": "4635110d",
   "metadata": {},
   "outputs": [
    {
     "data": {
      "text/plain": [
       "Text(0.5, 1.0, 'MPG v/s Horsepower')"
      ]
     },
     "execution_count": 12,
     "metadata": {},
     "output_type": "execute_result"
    },
    {
     "data": {
      "image/png": "[encoded data removed]",
      "text/plain": [
       "<Figure size 640x480 with 1 Axes>"
      ]
     },
     "metadata": {},
     "output_type": "display_data"
    }
   ],
   "source": [
    "# consider - (Dependent) mpg as y and (Independent) horspower as x\n",
    "# pattern check or trend check to decide which model can be used\n",
    "sb.regplot(x='horsepower',y='mpg',data=copied_mpg)\n",
    "mp.title(\"MPG v/s Horsepower\")"
   ]
  },
  {
   "cell_type": "markdown",
   "id": "831da67f",
   "metadata": {},
   "source": [
    "#### Correlation Check"
   ]
  },
  {
   "cell_type": "code",
   "execution_count": 13,
   "id": "a18af11c",
   "metadata": {},
   "outputs": [
    {
     "data": {
      "text/html": [
       "<div>\n",
       "<style scoped>\n",
       "    .dataframe tbody tr th:only-of-type {\n",
       "        vertical-align: middle;\n",
       "    }\n",
       "\n",
       "    .dataframe tbody tr th {\n",
       "        vertical-align: top;\n",
       "    }\n",
       "\n",
       "    .dataframe thead th {\n",
       "        text-align: right;\n",
       "    }\n",
       "</style>\n",
       "<table border=\"1\" class=\"dataframe\">\n",
       "  <thead>\n",
       "    <tr style=\"text-align: right;\">\n",
       "      <th></th>\n",
       "      <th>horsepower</th>\n",
       "      <th>mpg</th>\n",
       "    </tr>\n",
       "  </thead>\n",
       "  <tbody>\n",
       "    <tr>\n",
       "      <th>horsepower</th>\n",
       "      <td>1.000000</td>\n",
       "      <td>-0.754276</td>\n",
       "    </tr>\n",
       "    <tr>\n",
       "      <th>mpg</th>\n",
       "      <td>-0.754276</td>\n",
       "      <td>1.000000</td>\n",
       "    </tr>\n",
       "  </tbody>\n",
       "</table>\n",
       "</div>"
      ],
      "text/plain": [
       "            horsepower       mpg\n",
       "horsepower    1.000000 -0.754276\n",
       "mpg          -0.754276  1.000000"
      ]
     },
     "execution_count": 13,
     "metadata": {},
     "output_type": "execute_result"
    }
   ],
   "source": [
    "copied_mpg[['horsepower','mpg']].corr()"
   ]
  },
  {
   "cell_type": "markdown",
   "id": "5b2eeb1a",
   "metadata": {},
   "source": [
    "#### Reshaping and Separting X and Y to Suit Simple Linear Regression"
   ]
  },
  {
   "cell_type": "code",
   "execution_count": 14,
   "id": "b6f82d6c",
   "metadata": {},
   "outputs": [
    {
     "data": {
      "text/plain": [
       "array([[130.],\n",
       "       [165.],\n",
       "       [150.],\n",
       "       [150.],\n",
       "       [140.],\n",
       "       [198.],\n",
       "       [220.],\n",
       "       [215.],\n",
       "       [225.],\n",
       "       [190.],\n",
       "       [170.],\n",
       "       [160.],\n",
       "       [150.],\n",
       "       [225.],\n",
       "       [ 95.],\n",
       "       [ 95.],\n",
       "       [ 97.],\n",
       "       [ 85.],\n",
       "       [ 88.],\n",
       "       [ 46.],\n",
       "       [ 87.],\n",
       "       [ 90.],\n",
       "       [ 95.],\n",
       "       [113.],\n",
       "       [ 90.],\n",
       "       [215.],\n",
       "       [200.],\n",
       "       [210.],\n",
       "       [193.],\n",
       "       [ 88.],\n",
       "       [ 90.],\n",
       "       [ 95.],\n",
       "       [  0.],\n",
       "       [100.],\n",
       "       [105.],\n",
       "       [100.],\n",
       "       [ 88.],\n",
       "       [100.],\n",
       "       [165.],\n",
       "       [175.],\n",
       "       [153.],\n",
       "       [150.],\n",
       "       [180.],\n",
       "       [170.],\n",
       "       [175.],\n",
       "       [110.],\n",
       "       [ 72.],\n",
       "       [100.],\n",
       "       [ 88.],\n",
       "       [ 86.],\n",
       "       [ 90.],\n",
       "       [ 70.],\n",
       "       [ 76.],\n",
       "       [ 65.],\n",
       "       [ 69.],\n",
       "       [ 60.],\n",
       "       [ 70.],\n",
       "       [ 95.],\n",
       "       [ 80.],\n",
       "       [ 54.],\n",
       "       [ 90.],\n",
       "       [ 86.],\n",
       "       [165.],\n",
       "       [175.],\n",
       "       [150.],\n",
       "       [153.],\n",
       "       [150.],\n",
       "       [208.],\n",
       "       [155.],\n",
       "       [160.],\n",
       "       [190.],\n",
       "       [ 97.],\n",
       "       [150.],\n",
       "       [130.],\n",
       "       [140.],\n",
       "       [150.],\n",
       "       [112.],\n",
       "       [ 76.],\n",
       "       [ 87.],\n",
       "       [ 69.],\n",
       "       [ 86.],\n",
       "       [ 92.],\n",
       "       [ 97.],\n",
       "       [ 80.],\n",
       "       [ 88.],\n",
       "       [175.],\n",
       "       [150.],\n",
       "       [145.],\n",
       "       [137.],\n",
       "       [150.],\n",
       "       [198.],\n",
       "       [150.],\n",
       "       [158.],\n",
       "       [150.],\n",
       "       [215.],\n",
       "       [225.],\n",
       "       [175.],\n",
       "       [105.],\n",
       "       [100.],\n",
       "       [100.],\n",
       "       [ 88.],\n",
       "       [ 95.],\n",
       "       [ 46.],\n",
       "       [150.],\n",
       "       [167.],\n",
       "       [170.],\n",
       "       [180.],\n",
       "       [100.],\n",
       "       [ 88.],\n",
       "       [ 72.],\n",
       "       [ 94.],\n",
       "       [ 90.],\n",
       "       [ 85.],\n",
       "       [107.],\n",
       "       [ 90.],\n",
       "       [145.],\n",
       "       [230.],\n",
       "       [ 49.],\n",
       "       [ 75.],\n",
       "       [ 91.],\n",
       "       [112.],\n",
       "       [150.],\n",
       "       [110.],\n",
       "       [122.],\n",
       "       [180.],\n",
       "       [ 95.],\n",
       "       [  0.],\n",
       "       [100.],\n",
       "       [100.],\n",
       "       [ 67.],\n",
       "       [ 80.],\n",
       "       [ 65.],\n",
       "       [ 75.],\n",
       "       [100.],\n",
       "       [110.],\n",
       "       [105.],\n",
       "       [140.],\n",
       "       [150.],\n",
       "       [150.],\n",
       "       [140.],\n",
       "       [150.],\n",
       "       [ 83.],\n",
       "       [ 67.],\n",
       "       [ 78.],\n",
       "       [ 52.],\n",
       "       [ 61.],\n",
       "       [ 75.],\n",
       "       [ 75.],\n",
       "       [ 75.],\n",
       "       [ 97.],\n",
       "       [ 93.],\n",
       "       [ 67.],\n",
       "       [ 95.],\n",
       "       [105.],\n",
       "       [ 72.],\n",
       "       [ 72.],\n",
       "       [170.],\n",
       "       [145.],\n",
       "       [150.],\n",
       "       [148.],\n",
       "       [110.],\n",
       "       [105.],\n",
       "       [110.],\n",
       "       [ 95.],\n",
       "       [110.],\n",
       "       [110.],\n",
       "       [129.],\n",
       "       [ 75.],\n",
       "       [ 83.],\n",
       "       [100.],\n",
       "       [ 78.],\n",
       "       [ 96.],\n",
       "       [ 71.],\n",
       "       [ 97.],\n",
       "       [ 97.],\n",
       "       [ 70.],\n",
       "       [ 90.],\n",
       "       [ 95.],\n",
       "       [ 88.],\n",
       "       [ 98.],\n",
       "       [115.],\n",
       "       [ 53.],\n",
       "       [ 86.],\n",
       "       [ 81.],\n",
       "       [ 92.],\n",
       "       [ 79.],\n",
       "       [ 83.],\n",
       "       [140.],\n",
       "       [150.],\n",
       "       [120.],\n",
       "       [152.],\n",
       "       [100.],\n",
       "       [105.],\n",
       "       [ 81.],\n",
       "       [ 90.],\n",
       "       [ 52.],\n",
       "       [ 60.],\n",
       "       [ 70.],\n",
       "       [ 53.],\n",
       "       [100.],\n",
       "       [ 78.],\n",
       "       [110.],\n",
       "       [ 95.],\n",
       "       [ 71.],\n",
       "       [ 70.],\n",
       "       [ 75.],\n",
       "       [ 72.],\n",
       "       [102.],\n",
       "       [150.],\n",
       "       [ 88.],\n",
       "       [108.],\n",
       "       [120.],\n",
       "       [180.],\n",
       "       [145.],\n",
       "       [130.],\n",
       "       [150.],\n",
       "       [ 68.],\n",
       "       [ 80.],\n",
       "       [ 58.],\n",
       "       [ 96.],\n",
       "       [ 70.],\n",
       "       [145.],\n",
       "       [110.],\n",
       "       [145.],\n",
       "       [130.],\n",
       "       [110.],\n",
       "       [105.],\n",
       "       [100.],\n",
       "       [ 98.],\n",
       "       [180.],\n",
       "       [170.],\n",
       "       [190.],\n",
       "       [149.],\n",
       "       [ 78.],\n",
       "       [ 88.],\n",
       "       [ 75.],\n",
       "       [ 89.],\n",
       "       [ 63.],\n",
       "       [ 83.],\n",
       "       [ 67.],\n",
       "       [ 78.],\n",
       "       [ 97.],\n",
       "       [110.],\n",
       "       [110.],\n",
       "       [ 48.],\n",
       "       [ 66.],\n",
       "       [ 52.],\n",
       "       [ 70.],\n",
       "       [ 60.],\n",
       "       [110.],\n",
       "       [140.],\n",
       "       [139.],\n",
       "       [105.],\n",
       "       [ 95.],\n",
       "       [ 85.],\n",
       "       [ 88.],\n",
       "       [100.],\n",
       "       [ 90.],\n",
       "       [105.],\n",
       "       [ 85.],\n",
       "       [110.],\n",
       "       [120.],\n",
       "       [145.],\n",
       "       [165.],\n",
       "       [139.],\n",
       "       [140.],\n",
       "       [ 68.],\n",
       "       [ 95.],\n",
       "       [ 97.],\n",
       "       [ 75.],\n",
       "       [ 95.],\n",
       "       [105.],\n",
       "       [ 85.],\n",
       "       [ 97.],\n",
       "       [103.],\n",
       "       [125.],\n",
       "       [115.],\n",
       "       [133.],\n",
       "       [ 71.],\n",
       "       [ 68.],\n",
       "       [115.],\n",
       "       [ 85.],\n",
       "       [ 88.],\n",
       "       [ 90.],\n",
       "       [110.],\n",
       "       [130.],\n",
       "       [129.],\n",
       "       [138.],\n",
       "       [135.],\n",
       "       [155.],\n",
       "       [142.],\n",
       "       [125.],\n",
       "       [150.],\n",
       "       [ 71.],\n",
       "       [ 65.],\n",
       "       [ 80.],\n",
       "       [ 80.],\n",
       "       [ 77.],\n",
       "       [125.],\n",
       "       [ 71.],\n",
       "       [ 90.],\n",
       "       [ 70.],\n",
       "       [ 70.],\n",
       "       [ 65.],\n",
       "       [ 69.],\n",
       "       [ 90.],\n",
       "       [115.],\n",
       "       [115.],\n",
       "       [ 90.],\n",
       "       [ 76.],\n",
       "       [ 60.],\n",
       "       [ 70.],\n",
       "       [ 65.],\n",
       "       [ 90.],\n",
       "       [ 88.],\n",
       "       [ 90.],\n",
       "       [ 90.],\n",
       "       [ 78.],\n",
       "       [ 90.],\n",
       "       [ 75.],\n",
       "       [ 92.],\n",
       "       [ 75.],\n",
       "       [ 65.],\n",
       "       [105.],\n",
       "       [ 65.],\n",
       "       [ 48.],\n",
       "       [ 48.],\n",
       "       [ 67.],\n",
       "       [ 67.],\n",
       "       [ 67.],\n",
       "       [  0.],\n",
       "       [ 67.],\n",
       "       [ 62.],\n",
       "       [132.],\n",
       "       [100.],\n",
       "       [ 88.],\n",
       "       [  0.],\n",
       "       [ 72.],\n",
       "       [ 84.],\n",
       "       [ 84.],\n",
       "       [ 92.],\n",
       "       [110.],\n",
       "       [ 84.],\n",
       "       [ 58.],\n",
       "       [ 64.],\n",
       "       [ 60.],\n",
       "       [ 67.],\n",
       "       [ 65.],\n",
       "       [ 62.],\n",
       "       [ 68.],\n",
       "       [ 63.],\n",
       "       [ 65.],\n",
       "       [ 65.],\n",
       "       [ 74.],\n",
       "       [  0.],\n",
       "       [ 75.],\n",
       "       [ 75.],\n",
       "       [100.],\n",
       "       [ 74.],\n",
       "       [ 80.],\n",
       "       [ 76.],\n",
       "       [116.],\n",
       "       [120.],\n",
       "       [110.],\n",
       "       [105.],\n",
       "       [ 88.],\n",
       "       [ 85.],\n",
       "       [ 88.],\n",
       "       [ 88.],\n",
       "       [ 88.],\n",
       "       [ 85.],\n",
       "       [ 84.],\n",
       "       [ 90.],\n",
       "       [ 92.],\n",
       "       [  0.],\n",
       "       [ 74.],\n",
       "       [ 68.],\n",
       "       [ 68.],\n",
       "       [ 63.],\n",
       "       [ 70.],\n",
       "       [ 88.],\n",
       "       [ 75.],\n",
       "       [ 70.],\n",
       "       [ 67.],\n",
       "       [ 67.],\n",
       "       [ 67.],\n",
       "       [110.],\n",
       "       [ 85.],\n",
       "       [ 92.],\n",
       "       [112.],\n",
       "       [ 96.],\n",
       "       [ 84.],\n",
       "       [ 90.],\n",
       "       [ 86.],\n",
       "       [ 52.],\n",
       "       [ 84.],\n",
       "       [ 79.],\n",
       "       [ 82.]])"
      ]
     },
     "execution_count": 14,
     "metadata": {},
     "output_type": "execute_result"
    }
   ],
   "source": [
    "x=copied_mpg.horsepower.values.reshape(-1,1)\n",
    "x"
   ]
  },
  {
   "cell_type": "code",
   "execution_count": 15,
   "id": "138dc9ac",
   "metadata": {},
   "outputs": [
    {
     "data": {
      "text/plain": [
       "array([[18. ],\n",
       "       [15. ],\n",
       "       [18. ],\n",
       "       [16. ],\n",
       "       [17. ],\n",
       "       [15. ],\n",
       "       [14. ],\n",
       "       [14. ],\n",
       "       [14. ],\n",
       "       [15. ],\n",
       "       [15. ],\n",
       "       [14. ],\n",
       "       [15. ],\n",
       "       [14. ],\n",
       "       [24. ],\n",
       "       [22. ],\n",
       "       [18. ],\n",
       "       [21. ],\n",
       "       [27. ],\n",
       "       [26. ],\n",
       "       [25. ],\n",
       "       [24. ],\n",
       "       [25. ],\n",
       "       [26. ],\n",
       "       [21. ],\n",
       "       [10. ],\n",
       "       [10. ],\n",
       "       [11. ],\n",
       "       [ 9. ],\n",
       "       [27. ],\n",
       "       [28. ],\n",
       "       [25. ],\n",
       "       [25. ],\n",
       "       [19. ],\n",
       "       [16. ],\n",
       "       [17. ],\n",
       "       [19. ],\n",
       "       [18. ],\n",
       "       [14. ],\n",
       "       [14. ],\n",
       "       [14. ],\n",
       "       [14. ],\n",
       "       [12. ],\n",
       "       [13. ],\n",
       "       [13. ],\n",
       "       [18. ],\n",
       "       [22. ],\n",
       "       [19. ],\n",
       "       [18. ],\n",
       "       [23. ],\n",
       "       [28. ],\n",
       "       [30. ],\n",
       "       [30. ],\n",
       "       [31. ],\n",
       "       [35. ],\n",
       "       [27. ],\n",
       "       [26. ],\n",
       "       [24. ],\n",
       "       [25. ],\n",
       "       [23. ],\n",
       "       [20. ],\n",
       "       [21. ],\n",
       "       [13. ],\n",
       "       [14. ],\n",
       "       [15. ],\n",
       "       [14. ],\n",
       "       [17. ],\n",
       "       [11. ],\n",
       "       [13. ],\n",
       "       [12. ],\n",
       "       [13. ],\n",
       "       [19. ],\n",
       "       [15. ],\n",
       "       [13. ],\n",
       "       [13. ],\n",
       "       [14. ],\n",
       "       [18. ],\n",
       "       [22. ],\n",
       "       [21. ],\n",
       "       [26. ],\n",
       "       [22. ],\n",
       "       [28. ],\n",
       "       [23. ],\n",
       "       [28. ],\n",
       "       [27. ],\n",
       "       [13. ],\n",
       "       [14. ],\n",
       "       [13. ],\n",
       "       [14. ],\n",
       "       [15. ],\n",
       "       [12. ],\n",
       "       [13. ],\n",
       "       [13. ],\n",
       "       [14. ],\n",
       "       [13. ],\n",
       "       [12. ],\n",
       "       [13. ],\n",
       "       [18. ],\n",
       "       [16. ],\n",
       "       [18. ],\n",
       "       [18. ],\n",
       "       [23. ],\n",
       "       [26. ],\n",
       "       [11. ],\n",
       "       [12. ],\n",
       "       [13. ],\n",
       "       [12. ],\n",
       "       [18. ],\n",
       "       [20. ],\n",
       "       [21. ],\n",
       "       [22. ],\n",
       "       [18. ],\n",
       "       [19. ],\n",
       "       [21. ],\n",
       "       [26. ],\n",
       "       [15. ],\n",
       "       [16. ],\n",
       "       [29. ],\n",
       "       [24. ],\n",
       "       [20. ],\n",
       "       [19. ],\n",
       "       [15. ],\n",
       "       [24. ],\n",
       "       [20. ],\n",
       "       [11. ],\n",
       "       [20. ],\n",
       "       [21. ],\n",
       "       [19. ],\n",
       "       [15. ],\n",
       "       [31. ],\n",
       "       [26. ],\n",
       "       [32. ],\n",
       "       [25. ],\n",
       "       [16. ],\n",
       "       [16. ],\n",
       "       [18. ],\n",
       "       [16. ],\n",
       "       [13. ],\n",
       "       [14. ],\n",
       "       [14. ],\n",
       "       [14. ],\n",
       "       [29. ],\n",
       "       [26. ],\n",
       "       [26. ],\n",
       "       [31. ],\n",
       "       [32. ],\n",
       "       [28. ],\n",
       "       [24. ],\n",
       "       [26. ],\n",
       "       [24. ],\n",
       "       [26. ],\n",
       "       [31. ],\n",
       "       [19. ],\n",
       "       [18. ],\n",
       "       [15. ],\n",
       "       [15. ],\n",
       "       [16. ],\n",
       "       [15. ],\n",
       "       [16. ],\n",
       "       [14. ],\n",
       "       [17. ],\n",
       "       [16. ],\n",
       "       [15. ],\n",
       "       [18. ],\n",
       "       [21. ],\n",
       "       [20. ],\n",
       "       [13. ],\n",
       "       [29. ],\n",
       "       [23. ],\n",
       "       [20. ],\n",
       "       [23. ],\n",
       "       [24. ],\n",
       "       [25. ],\n",
       "       [24. ],\n",
       "       [18. ],\n",
       "       [29. ],\n",
       "       [19. ],\n",
       "       [23. ],\n",
       "       [23. ],\n",
       "       [22. ],\n",
       "       [25. ],\n",
       "       [33. ],\n",
       "       [28. ],\n",
       "       [25. ],\n",
       "       [25. ],\n",
       "       [26. ],\n",
       "       [27. ],\n",
       "       [17.5],\n",
       "       [16. ],\n",
       "       [15.5],\n",
       "       [14.5],\n",
       "       [22. ],\n",
       "       [22. ],\n",
       "       [24. ],\n",
       "       [22.5],\n",
       "       [29. ],\n",
       "       [24.5],\n",
       "       [29. ],\n",
       "       [33. ],\n",
       "       [20. ],\n",
       "       [18. ],\n",
       "       [18.5],\n",
       "       [17.5],\n",
       "       [29.5],\n",
       "       [32. ],\n",
       "       [28. ],\n",
       "       [26.5],\n",
       "       [20. ],\n",
       "       [13. ],\n",
       "       [19. ],\n",
       "       [19. ],\n",
       "       [16.5],\n",
       "       [16.5],\n",
       "       [13. ],\n",
       "       [13. ],\n",
       "       [13. ],\n",
       "       [31.5],\n",
       "       [30. ],\n",
       "       [36. ],\n",
       "       [25.5],\n",
       "       [33.5],\n",
       "       [17.5],\n",
       "       [17. ],\n",
       "       [15.5],\n",
       "       [15. ],\n",
       "       [17.5],\n",
       "       [20.5],\n",
       "       [19. ],\n",
       "       [18.5],\n",
       "       [16. ],\n",
       "       [15.5],\n",
       "       [15.5],\n",
       "       [16. ],\n",
       "       [29. ],\n",
       "       [24.5],\n",
       "       [26. ],\n",
       "       [25.5],\n",
       "       [30.5],\n",
       "       [33.5],\n",
       "       [30. ],\n",
       "       [30.5],\n",
       "       [22. ],\n",
       "       [21.5],\n",
       "       [21.5],\n",
       "       [43.1],\n",
       "       [36.1],\n",
       "       [32.8],\n",
       "       [39.4],\n",
       "       [36.1],\n",
       "       [19.9],\n",
       "       [19.4],\n",
       "       [20.2],\n",
       "       [19.2],\n",
       "       [20.5],\n",
       "       [20.2],\n",
       "       [25.1],\n",
       "       [20.5],\n",
       "       [19.4],\n",
       "       [20.6],\n",
       "       [20.8],\n",
       "       [18.6],\n",
       "       [18.1],\n",
       "       [19.2],\n",
       "       [17.7],\n",
       "       [18.1],\n",
       "       [17.5],\n",
       "       [30. ],\n",
       "       [27.5],\n",
       "       [27.2],\n",
       "       [30.9],\n",
       "       [21.1],\n",
       "       [23.2],\n",
       "       [23.8],\n",
       "       [23.9],\n",
       "       [20.3],\n",
       "       [17. ],\n",
       "       [21.6],\n",
       "       [16.2],\n",
       "       [31.5],\n",
       "       [29.5],\n",
       "       [21.5],\n",
       "       [19.8],\n",
       "       [22.3],\n",
       "       [20.2],\n",
       "       [20.6],\n",
       "       [17. ],\n",
       "       [17.6],\n",
       "       [16.5],\n",
       "       [18.2],\n",
       "       [16.9],\n",
       "       [15.5],\n",
       "       [19.2],\n",
       "       [18.5],\n",
       "       [31.9],\n",
       "       [34.1],\n",
       "       [35.7],\n",
       "       [27.4],\n",
       "       [25.4],\n",
       "       [23. ],\n",
       "       [27.2],\n",
       "       [23.9],\n",
       "       [34.2],\n",
       "       [34.5],\n",
       "       [31.8],\n",
       "       [37.3],\n",
       "       [28.4],\n",
       "       [28.8],\n",
       "       [26.8],\n",
       "       [33.5],\n",
       "       [41.5],\n",
       "       [38.1],\n",
       "       [32.1],\n",
       "       [37.2],\n",
       "       [28. ],\n",
       "       [26.4],\n",
       "       [24.3],\n",
       "       [19.1],\n",
       "       [34.3],\n",
       "       [29.8],\n",
       "       [31.3],\n",
       "       [37. ],\n",
       "       [32.2],\n",
       "       [46.6],\n",
       "       [27.9],\n",
       "       [40.8],\n",
       "       [44.3],\n",
       "       [43.4],\n",
       "       [36.4],\n",
       "       [30. ],\n",
       "       [44.6],\n",
       "       [40.9],\n",
       "       [33.8],\n",
       "       [29.8],\n",
       "       [32.7],\n",
       "       [23.7],\n",
       "       [35. ],\n",
       "       [23.6],\n",
       "       [32.4],\n",
       "       [27.2],\n",
       "       [26.6],\n",
       "       [25.8],\n",
       "       [23.5],\n",
       "       [30. ],\n",
       "       [39.1],\n",
       "       [39. ],\n",
       "       [35.1],\n",
       "       [32.3],\n",
       "       [37. ],\n",
       "       [37.7],\n",
       "       [34.1],\n",
       "       [34.7],\n",
       "       [34.4],\n",
       "       [29.9],\n",
       "       [33. ],\n",
       "       [34.5],\n",
       "       [33.7],\n",
       "       [32.4],\n",
       "       [32.9],\n",
       "       [31.6],\n",
       "       [28.1],\n",
       "       [30.7],\n",
       "       [25.4],\n",
       "       [24.2],\n",
       "       [22.4],\n",
       "       [26.6],\n",
       "       [20.2],\n",
       "       [17.6],\n",
       "       [28. ],\n",
       "       [27. ],\n",
       "       [34. ],\n",
       "       [31. ],\n",
       "       [29. ],\n",
       "       [27. ],\n",
       "       [24. ],\n",
       "       [23. ],\n",
       "       [36. ],\n",
       "       [37. ],\n",
       "       [31. ],\n",
       "       [38. ],\n",
       "       [36. ],\n",
       "       [36. ],\n",
       "       [36. ],\n",
       "       [34. ],\n",
       "       [38. ],\n",
       "       [32. ],\n",
       "       [38. ],\n",
       "       [25. ],\n",
       "       [38. ],\n",
       "       [26. ],\n",
       "       [22. ],\n",
       "       [32. ],\n",
       "       [36. ],\n",
       "       [27. ],\n",
       "       [27. ],\n",
       "       [44. ],\n",
       "       [32. ],\n",
       "       [28. ],\n",
       "       [31. ]])"
      ]
     },
     "execution_count": 15,
     "metadata": {},
     "output_type": "execute_result"
    }
   ],
   "source": [
    "y=copied_mpg.mpg.values.reshape(-1,1)\n",
    "y"
   ]
  },
  {
   "cell_type": "markdown",
   "id": "eae8255f",
   "metadata": {},
   "source": [
    "#### Model Preparation and Training"
   ]
  },
  {
   "cell_type": "code",
   "execution_count": 16,
   "id": "2c6e2daf",
   "metadata": {},
   "outputs": [
    {
     "name": "stdout",
     "output_type": "stream",
     "text": [
      "Model Training Completed\n"
     ]
    }
   ],
   "source": [
    "# Creating object or variable from Linear Regression model\n",
    "model = LinearRegression()\n",
    "\n",
    "# Train the model or model fitting\n",
    "model_train=model.fit(x,y)\n",
    "print(\"Model Training Completed\")"
   ]
  },
  {
   "cell_type": "markdown",
   "id": "a4dfe6a3",
   "metadata": {},
   "source": [
    "#### Getting Information of Slope, Fixed Value and Accuracy Percentage"
   ]
  },
  {
   "cell_type": "code",
   "execution_count": 17,
   "id": "c5c5aae7",
   "metadata": {},
   "outputs": [
    {
     "data": {
      "text/plain": [
       "array([[-0.14639875]])"
      ]
     },
     "execution_count": 17,
     "metadata": {},
     "output_type": "execute_result"
    }
   ],
   "source": [
    "# check slope or m or coefficient value\n",
    "model_train.coef_"
   ]
  },
  {
   "cell_type": "code",
   "execution_count": 18,
   "id": "295eab63",
   "metadata": {},
   "outputs": [
    {
     "data": {
      "text/plain": [
       "array([38.57819499])"
      ]
     },
     "execution_count": 18,
     "metadata": {},
     "output_type": "execute_result"
    }
   ],
   "source": [
    "# check intercept or constant or fixed value\n",
    "model_train.intercept_"
   ]
  },
  {
   "cell_type": "code",
   "execution_count": 19,
   "id": "a668756b",
   "metadata": {},
   "outputs": [
    {
     "data": {
      "text/plain": [
       "0.5689325831271121"
      ]
     },
     "execution_count": 19,
     "metadata": {},
     "output_type": "execute_result"
    }
   ],
   "source": [
    "# R square value / how fit the model is / accuracy percentage\n",
    "# rangs from 0 to 1 - more towards 0 is less accurate and more towards 1 is more accurate\n",
    "model_train.score(x,y)"
   ]
  },
  {
   "cell_type": "markdown",
   "id": "10fad5dc",
   "metadata": {},
   "source": [
    "#### Predicting New MPG value from Horsepower value"
   ]
  },
  {
   "cell_type": "code",
   "execution_count": 20,
   "id": "c17590e8",
   "metadata": {},
   "outputs": [
    {
     "name": "stdout",
     "output_type": "stream",
     "text": [
      "[[16.6183825]]\n"
     ]
    }
   ],
   "source": [
    "# predition\n",
    "m=150\n",
    "y=(model_train.coef_*m)+model_train.intercept_\n",
    "\n",
    "# print predicted value\n",
    "print(y)"
   ]
  },
  {
   "cell_type": "code",
   "execution_count": 21,
   "id": "a883089c",
   "metadata": {},
   "outputs": [
    {
     "data": {
      "text/html": [
       "<div>\n",
       "<style scoped>\n",
       "    .dataframe tbody tr th:only-of-type {\n",
       "        vertical-align: middle;\n",
       "    }\n",
       "\n",
       "    .dataframe tbody tr th {\n",
       "        vertical-align: top;\n",
       "    }\n",
       "\n",
       "    .dataframe thead th {\n",
       "        text-align: right;\n",
       "    }\n",
       "</style>\n",
       "<table border=\"1\" class=\"dataframe\">\n",
       "  <thead>\n",
       "    <tr style=\"text-align: right;\">\n",
       "      <th></th>\n",
       "      <th>mpg</th>\n",
       "      <th>cylinders</th>\n",
       "      <th>displacement</th>\n",
       "      <th>horsepower</th>\n",
       "      <th>weight</th>\n",
       "      <th>acceleration</th>\n",
       "      <th>model_year</th>\n",
       "      <th>origin</th>\n",
       "      <th>name</th>\n",
       "    </tr>\n",
       "  </thead>\n",
       "  <tbody>\n",
       "    <tr>\n",
       "      <th>232</th>\n",
       "      <td>16.0</td>\n",
       "      <td>8</td>\n",
       "      <td>351.0</td>\n",
       "      <td>149.0</td>\n",
       "      <td>4335</td>\n",
       "      <td>14.5</td>\n",
       "      <td>77</td>\n",
       "      <td>usa</td>\n",
       "      <td>ford thunderbird</td>\n",
       "    </tr>\n",
       "  </tbody>\n",
       "</table>\n",
       "</div>"
      ],
      "text/plain": [
       "      mpg  cylinders  displacement  horsepower  weight  acceleration  \\\n",
       "232  16.0          8         351.0       149.0    4335          14.5   \n",
       "\n",
       "     model_year origin              name  \n",
       "232          77    usa  ford thunderbird  "
      ]
     },
     "execution_count": 21,
     "metadata": {},
     "output_type": "execute_result"
    }
   ],
   "source": [
    "# cross checking myself for 149 horsepower how much is mpg value and how much predicted for 150 above so close\n",
    "copied_mpg[copied_mpg['horsepower']==149]"
   ]
  },
  {
   "cell_type": "markdown",
   "id": "da232e51",
   "metadata": {},
   "source": [
    "# 2. Multiple Linear Regression"
   ]
  },
  {
   "cell_type": "markdown",
   "id": "2e5bbde0",
   "metadata": {},
   "source": [
    "Problem Statement: \n",
    "1. Predict MPG from Horsepower and Culinders\n",
    "2. Predict MPG from All the Values except origin and name ( Given as Homework )"
   ]
  },
  {
   "cell_type": "markdown",
   "id": "701dc51d",
   "metadata": {},
   "source": [
    "#### Importing Neccesary Packages"
   ]
  },
  {
   "cell_type": "code",
   "execution_count": 22,
   "id": "19706b00",
   "metadata": {},
   "outputs": [],
   "source": [
    "# Used for title and resizing graph\n",
    "import matplotlib.pyplot as mp\n",
    "\n",
    "# Used Machine Learning Package - scikit learn\n",
    "from sklearn.linear_model import LinearRegression"
   ]
  },
  {
   "cell_type": "markdown",
   "id": "7117bdea",
   "metadata": {},
   "source": [
    "#### Regression Plotting one by one"
   ]
  },
  {
   "cell_type": "code",
   "execution_count": 23,
   "id": "fd118e92",
   "metadata": {},
   "outputs": [
    {
     "data": {
      "text/plain": [
       "Text(0.5, 1.0, 'Horsepower v/s MPG')"
      ]
     },
     "execution_count": 23,
     "metadata": {},
     "output_type": "execute_result"
    },
    {
     "data": {
      "image/png": "[encoded data removed]",
      "text/plain": [
       "<Figure size 640x480 with 1 Axes>"
      ]
     },
     "metadata": {},
     "output_type": "display_data"
    }
   ],
   "source": [
    "# plot graph horsepower vs mpg\n",
    "sb.regplot(x='horsepower',y='mpg',data=copied_mpg)\n",
    "mp.title(\"Horsepower v/s MPG\")"
   ]
  },
  {
   "cell_type": "code",
   "execution_count": 24,
   "id": "a1b1d122",
   "metadata": {},
   "outputs": [
    {
     "data": {
      "text/plain": [
       "Text(0.5, 1.0, 'Cylinders v/s MPG')"
      ]
     },
     "execution_count": 24,
     "metadata": {},
     "output_type": "execute_result"
    },
    {
     "data": {
      "image/png": "[encoded data removed]",
      "text/plain": [
       "<Figure size 640x480 with 1 Axes>"
      ]
     },
     "metadata": {},
     "output_type": "display_data"
    }
   ],
   "source": [
    "# plot graph cylinders vs mpg - falling in categories like 4, 6 etc like that\n",
    "sb.regplot(x='cylinders',y='mpg',data=copied_mpg)\n",
    "mp.title(\"Cylinders v/s MPG\")"
   ]
  },
  {
   "cell_type": "code",
   "execution_count": 25,
   "id": "870b9f05",
   "metadata": {},
   "outputs": [
    {
     "data": {
      "text/plain": [
       "Text(0.5, 1.0, 'Horsepower v/s Cylinders')"
      ]
     },
     "execution_count": 25,
     "metadata": {},
     "output_type": "execute_result"
    },
    {
     "data": {
      "image/png": "[encoded data removed]",
      "text/plain": [
       "<Figure size 640x480 with 1 Axes>"
      ]
     },
     "metadata": {},
     "output_type": "display_data"
    }
   ],
   "source": [
    "# plot graph horsepower vs cylinders\n",
    "sb.regplot(x='horsepower',y='cylinders',data=copied_mpg)\n",
    "mp.title(\"Horsepower v/s Cylinders\")"
   ]
  },
  {
   "cell_type": "markdown",
   "id": "3c0e56a0",
   "metadata": {},
   "source": [
    "#### Correlation Check"
   ]
  },
  {
   "cell_type": "code",
   "execution_count": 26,
   "id": "7cd7b82e",
   "metadata": {},
   "outputs": [
    {
     "data": {
      "text/html": [
       "<div>\n",
       "<style scoped>\n",
       "    .dataframe tbody tr th:only-of-type {\n",
       "        vertical-align: middle;\n",
       "    }\n",
       "\n",
       "    .dataframe tbody tr th {\n",
       "        vertical-align: top;\n",
       "    }\n",
       "\n",
       "    .dataframe thead th {\n",
       "        text-align: right;\n",
       "    }\n",
       "</style>\n",
       "<table border=\"1\" class=\"dataframe\">\n",
       "  <thead>\n",
       "    <tr style=\"text-align: right;\">\n",
       "      <th></th>\n",
       "      <th>horsepower</th>\n",
       "      <th>cylinders</th>\n",
       "      <th>mpg</th>\n",
       "    </tr>\n",
       "  </thead>\n",
       "  <tbody>\n",
       "    <tr>\n",
       "      <th>horsepower</th>\n",
       "      <td>1.000000</td>\n",
       "      <td>0.821656</td>\n",
       "      <td>-0.754276</td>\n",
       "    </tr>\n",
       "    <tr>\n",
       "      <th>cylinders</th>\n",
       "      <td>0.821656</td>\n",
       "      <td>1.000000</td>\n",
       "      <td>-0.775396</td>\n",
       "    </tr>\n",
       "    <tr>\n",
       "      <th>mpg</th>\n",
       "      <td>-0.754276</td>\n",
       "      <td>-0.775396</td>\n",
       "      <td>1.000000</td>\n",
       "    </tr>\n",
       "  </tbody>\n",
       "</table>\n",
       "</div>"
      ],
      "text/plain": [
       "            horsepower  cylinders       mpg\n",
       "horsepower    1.000000   0.821656 -0.754276\n",
       "cylinders     0.821656   1.000000 -0.775396\n",
       "mpg          -0.754276  -0.775396  1.000000"
      ]
     },
     "execution_count": 26,
     "metadata": {},
     "output_type": "execute_result"
    }
   ],
   "source": [
    "# is cylinder is important or not to consider check correlation percentage\n",
    "# if higly corelated then its not required that much becuase both horse power and cylinders are dependent each other\n",
    "# if horse power increase cylinder increase so\n",
    "# but considering may help to increase accuracy \n",
    "copied_mpg[['horsepower','cylinders','mpg']].corr()"
   ]
  },
  {
   "cell_type": "markdown",
   "id": "51fb25ce",
   "metadata": {},
   "source": [
    "#### Separating X1 and Y1 values to suit Multiple Linear Regression"
   ]
  },
  {
   "cell_type": "code",
   "execution_count": 27,
   "id": "34bd1612",
   "metadata": {},
   "outputs": [
    {
     "data": {
      "text/html": [
       "<div>\n",
       "<style scoped>\n",
       "    .dataframe tbody tr th:only-of-type {\n",
       "        vertical-align: middle;\n",
       "    }\n",
       "\n",
       "    .dataframe tbody tr th {\n",
       "        vertical-align: top;\n",
       "    }\n",
       "\n",
       "    .dataframe thead th {\n",
       "        text-align: right;\n",
       "    }\n",
       "</style>\n",
       "<table border=\"1\" class=\"dataframe\">\n",
       "  <thead>\n",
       "    <tr style=\"text-align: right;\">\n",
       "      <th></th>\n",
       "      <th>horsepower</th>\n",
       "      <th>cylinders</th>\n",
       "    </tr>\n",
       "  </thead>\n",
       "  <tbody>\n",
       "    <tr>\n",
       "      <th>0</th>\n",
       "      <td>130.0</td>\n",
       "      <td>8</td>\n",
       "    </tr>\n",
       "    <tr>\n",
       "      <th>1</th>\n",
       "      <td>165.0</td>\n",
       "      <td>8</td>\n",
       "    </tr>\n",
       "    <tr>\n",
       "      <th>2</th>\n",
       "      <td>150.0</td>\n",
       "      <td>8</td>\n",
       "    </tr>\n",
       "    <tr>\n",
       "      <th>3</th>\n",
       "      <td>150.0</td>\n",
       "      <td>8</td>\n",
       "    </tr>\n",
       "    <tr>\n",
       "      <th>4</th>\n",
       "      <td>140.0</td>\n",
       "      <td>8</td>\n",
       "    </tr>\n",
       "    <tr>\n",
       "      <th>...</th>\n",
       "      <td>...</td>\n",
       "      <td>...</td>\n",
       "    </tr>\n",
       "    <tr>\n",
       "      <th>393</th>\n",
       "      <td>86.0</td>\n",
       "      <td>4</td>\n",
       "    </tr>\n",
       "    <tr>\n",
       "      <th>394</th>\n",
       "      <td>52.0</td>\n",
       "      <td>4</td>\n",
       "    </tr>\n",
       "    <tr>\n",
       "      <th>395</th>\n",
       "      <td>84.0</td>\n",
       "      <td>4</td>\n",
       "    </tr>\n",
       "    <tr>\n",
       "      <th>396</th>\n",
       "      <td>79.0</td>\n",
       "      <td>4</td>\n",
       "    </tr>\n",
       "    <tr>\n",
       "      <th>397</th>\n",
       "      <td>82.0</td>\n",
       "      <td>4</td>\n",
       "    </tr>\n",
       "  </tbody>\n",
       "</table>\n",
       "<p>398 rows × 2 columns</p>\n",
       "</div>"
      ],
      "text/plain": [
       "     horsepower  cylinders\n",
       "0         130.0          8\n",
       "1         165.0          8\n",
       "2         150.0          8\n",
       "3         150.0          8\n",
       "4         140.0          8\n",
       "..          ...        ...\n",
       "393        86.0          4\n",
       "394        52.0          4\n",
       "395        84.0          4\n",
       "396        79.0          4\n",
       "397        82.0          4\n",
       "\n",
       "[398 rows x 2 columns]"
      ]
     },
     "execution_count": 27,
     "metadata": {},
     "output_type": "execute_result"
    }
   ],
   "source": [
    "x1=copied_mpg[['horsepower','cylinders']]\n",
    "x1"
   ]
  },
  {
   "cell_type": "code",
   "execution_count": 28,
   "id": "92d0052b",
   "metadata": {},
   "outputs": [
    {
     "data": {
      "text/plain": [
       "0      18.0\n",
       "1      15.0\n",
       "2      18.0\n",
       "3      16.0\n",
       "4      17.0\n",
       "       ... \n",
       "393    27.0\n",
       "394    44.0\n",
       "395    32.0\n",
       "396    28.0\n",
       "397    31.0\n",
       "Name: mpg, Length: 398, dtype: float64"
      ]
     },
     "execution_count": 28,
     "metadata": {},
     "output_type": "execute_result"
    }
   ],
   "source": [
    "y1=copied_mpg['mpg']\n",
    "y1"
   ]
  },
  {
   "cell_type": "markdown",
   "id": "f765c49a",
   "metadata": {},
   "source": [
    "#### Model Preparation and Training"
   ]
  },
  {
   "cell_type": "code",
   "execution_count": 29,
   "id": "9a373b18",
   "metadata": {},
   "outputs": [
    {
     "name": "stdout",
     "output_type": "stream",
     "text": [
      "Training Completed\n"
     ]
    }
   ],
   "source": [
    "# Creating object or variable from Linear Regression model\n",
    "model2=LinearRegression()\n",
    "\n",
    "# Train the model or model fitting\n",
    "model2_train=model2.fit(x1,y1)\n",
    "print(\"Training Completed\")"
   ]
  },
  {
   "cell_type": "markdown",
   "id": "9c68137c",
   "metadata": {},
   "source": [
    "#### Getting Information of Slope, Fixed Value and Accuracy Percentage"
   ]
  },
  {
   "cell_type": "code",
   "execution_count": 30,
   "id": "7241cc79",
   "metadata": {},
   "outputs": [
    {
     "data": {
      "text/plain": [
       "array([-0.06999835, -2.20128708])"
      ]
     },
     "execution_count": 30,
     "metadata": {},
     "output_type": "execute_result"
    }
   ],
   "source": [
    "# Check slope or m or coefficient value\n",
    "model2.coef_"
   ]
  },
  {
   "cell_type": "code",
   "execution_count": 31,
   "id": "b8b39568",
   "metadata": {},
   "outputs": [
    {
     "data": {
      "text/plain": [
       "42.72453951282657"
      ]
     },
     "execution_count": 31,
     "metadata": {},
     "output_type": "execute_result"
    }
   ],
   "source": [
    "# Check for intercept or fixed value\n",
    "model2.intercept_"
   ]
  },
  {
   "cell_type": "code",
   "execution_count": 32,
   "id": "7c572cd6",
   "metadata": {},
   "outputs": [
    {
     "data": {
      "text/plain": [
       "0.6434951301715306"
      ]
     },
     "execution_count": 32,
     "metadata": {},
     "output_type": "execute_result"
    }
   ],
   "source": [
    "# Accuracy Percentage or R Square Value\n",
    "model2.score(x1,y1) # increased accuracy"
   ]
  },
  {
   "cell_type": "markdown",
   "id": "fda035ec",
   "metadata": {},
   "source": [
    "#### Predicting New MPG value from Horsepower value"
   ]
  },
  {
   "cell_type": "code",
   "execution_count": 33,
   "id": "abca1bb4",
   "metadata": {},
   "outputs": [
    {
     "name": "stdout",
     "output_type": "stream",
     "text": [
      "19.017064369035428\n"
     ]
    }
   ],
   "source": [
    "# Prediction\n",
    "m1=150\n",
    "m2=6\n",
    "y=(model2.coef_[0]*m1)+(model2.coef_[1]*m2)+model2.intercept_\n",
    "\n",
    "# Print predicted value\n",
    "print(y)"
   ]
  },
  {
   "cell_type": "code",
   "execution_count": 34,
   "id": "1ba5f84f",
   "metadata": {},
   "outputs": [
    {
     "data": {
      "text/html": [
       "<div>\n",
       "<style scoped>\n",
       "    .dataframe tbody tr th:only-of-type {\n",
       "        vertical-align: middle;\n",
       "    }\n",
       "\n",
       "    .dataframe tbody tr th {\n",
       "        vertical-align: top;\n",
       "    }\n",
       "\n",
       "    .dataframe thead th {\n",
       "        text-align: right;\n",
       "    }\n",
       "</style>\n",
       "<table border=\"1\" class=\"dataframe\">\n",
       "  <thead>\n",
       "    <tr style=\"text-align: right;\">\n",
       "      <th></th>\n",
       "      <th>mpg</th>\n",
       "      <th>cylinders</th>\n",
       "      <th>displacement</th>\n",
       "      <th>horsepower</th>\n",
       "      <th>weight</th>\n",
       "      <th>acceleration</th>\n",
       "      <th>model_year</th>\n",
       "      <th>origin</th>\n",
       "      <th>name</th>\n",
       "    </tr>\n",
       "  </thead>\n",
       "  <tbody>\n",
       "    <tr>\n",
       "      <th>15</th>\n",
       "      <td>22.0</td>\n",
       "      <td>6</td>\n",
       "      <td>198.0</td>\n",
       "      <td>95.0</td>\n",
       "      <td>2833</td>\n",
       "      <td>15.5</td>\n",
       "      <td>70</td>\n",
       "      <td>usa</td>\n",
       "      <td>plymouth duster</td>\n",
       "    </tr>\n",
       "    <tr>\n",
       "      <th>16</th>\n",
       "      <td>18.0</td>\n",
       "      <td>6</td>\n",
       "      <td>199.0</td>\n",
       "      <td>97.0</td>\n",
       "      <td>2774</td>\n",
       "      <td>15.5</td>\n",
       "      <td>70</td>\n",
       "      <td>usa</td>\n",
       "      <td>amc hornet</td>\n",
       "    </tr>\n",
       "    <tr>\n",
       "      <th>17</th>\n",
       "      <td>21.0</td>\n",
       "      <td>6</td>\n",
       "      <td>200.0</td>\n",
       "      <td>85.0</td>\n",
       "      <td>2587</td>\n",
       "      <td>16.0</td>\n",
       "      <td>70</td>\n",
       "      <td>usa</td>\n",
       "      <td>ford maverick</td>\n",
       "    </tr>\n",
       "    <tr>\n",
       "      <th>24</th>\n",
       "      <td>21.0</td>\n",
       "      <td>6</td>\n",
       "      <td>199.0</td>\n",
       "      <td>90.0</td>\n",
       "      <td>2648</td>\n",
       "      <td>15.0</td>\n",
       "      <td>70</td>\n",
       "      <td>usa</td>\n",
       "      <td>amc gremlin</td>\n",
       "    </tr>\n",
       "    <tr>\n",
       "      <th>33</th>\n",
       "      <td>19.0</td>\n",
       "      <td>6</td>\n",
       "      <td>232.0</td>\n",
       "      <td>100.0</td>\n",
       "      <td>2634</td>\n",
       "      <td>13.0</td>\n",
       "      <td>71</td>\n",
       "      <td>usa</td>\n",
       "      <td>amc gremlin</td>\n",
       "    </tr>\n",
       "    <tr>\n",
       "      <th>...</th>\n",
       "      <td>...</td>\n",
       "      <td>...</td>\n",
       "      <td>...</td>\n",
       "      <td>...</td>\n",
       "      <td>...</td>\n",
       "      <td>...</td>\n",
       "      <td>...</td>\n",
       "      <td>...</td>\n",
       "      <td>...</td>\n",
       "    </tr>\n",
       "    <tr>\n",
       "      <th>365</th>\n",
       "      <td>20.2</td>\n",
       "      <td>6</td>\n",
       "      <td>200.0</td>\n",
       "      <td>88.0</td>\n",
       "      <td>3060</td>\n",
       "      <td>17.1</td>\n",
       "      <td>81</td>\n",
       "      <td>usa</td>\n",
       "      <td>ford granada gl</td>\n",
       "    </tr>\n",
       "    <tr>\n",
       "      <th>366</th>\n",
       "      <td>17.6</td>\n",
       "      <td>6</td>\n",
       "      <td>225.0</td>\n",
       "      <td>85.0</td>\n",
       "      <td>3465</td>\n",
       "      <td>16.6</td>\n",
       "      <td>81</td>\n",
       "      <td>usa</td>\n",
       "      <td>chrysler lebaron salon</td>\n",
       "    </tr>\n",
       "    <tr>\n",
       "      <th>386</th>\n",
       "      <td>25.0</td>\n",
       "      <td>6</td>\n",
       "      <td>181.0</td>\n",
       "      <td>110.0</td>\n",
       "      <td>2945</td>\n",
       "      <td>16.4</td>\n",
       "      <td>82</td>\n",
       "      <td>usa</td>\n",
       "      <td>buick century limited</td>\n",
       "    </tr>\n",
       "    <tr>\n",
       "      <th>387</th>\n",
       "      <td>38.0</td>\n",
       "      <td>6</td>\n",
       "      <td>262.0</td>\n",
       "      <td>85.0</td>\n",
       "      <td>3015</td>\n",
       "      <td>17.0</td>\n",
       "      <td>82</td>\n",
       "      <td>usa</td>\n",
       "      <td>oldsmobile cutlass ciera (diesel)</td>\n",
       "    </tr>\n",
       "    <tr>\n",
       "      <th>389</th>\n",
       "      <td>22.0</td>\n",
       "      <td>6</td>\n",
       "      <td>232.0</td>\n",
       "      <td>112.0</td>\n",
       "      <td>2835</td>\n",
       "      <td>14.7</td>\n",
       "      <td>82</td>\n",
       "      <td>usa</td>\n",
       "      <td>ford granada l</td>\n",
       "    </tr>\n",
       "  </tbody>\n",
       "</table>\n",
       "<p>84 rows × 9 columns</p>\n",
       "</div>"
      ],
      "text/plain": [
       "      mpg  cylinders  displacement  horsepower  weight  acceleration  \\\n",
       "15   22.0          6         198.0        95.0    2833          15.5   \n",
       "16   18.0          6         199.0        97.0    2774          15.5   \n",
       "17   21.0          6         200.0        85.0    2587          16.0   \n",
       "24   21.0          6         199.0        90.0    2648          15.0   \n",
       "33   19.0          6         232.0       100.0    2634          13.0   \n",
       "..    ...        ...           ...         ...     ...           ...   \n",
       "365  20.2          6         200.0        88.0    3060          17.1   \n",
       "366  17.6          6         225.0        85.0    3465          16.6   \n",
       "386  25.0          6         181.0       110.0    2945          16.4   \n",
       "387  38.0          6         262.0        85.0    3015          17.0   \n",
       "389  22.0          6         232.0       112.0    2835          14.7   \n",
       "\n",
       "     model_year origin                               name  \n",
       "15           70    usa                    plymouth duster  \n",
       "16           70    usa                         amc hornet  \n",
       "17           70    usa                      ford maverick  \n",
       "24           70    usa                        amc gremlin  \n",
       "33           71    usa                        amc gremlin  \n",
       "..          ...    ...                                ...  \n",
       "365          81    usa                    ford granada gl  \n",
       "366          81    usa             chrysler lebaron salon  \n",
       "386          82    usa              buick century limited  \n",
       "387          82    usa  oldsmobile cutlass ciera (diesel)  \n",
       "389          82    usa                     ford granada l  \n",
       "\n",
       "[84 rows x 9 columns]"
      ]
     },
     "execution_count": 34,
     "metadata": {},
     "output_type": "execute_result"
    }
   ],
   "source": [
    "# Cross checking for myself\n",
    "# copied_mpg[copied_mpg[['horsepower','cylinders']]==[150,8]] its not work as expected tried my own\n",
    "copied_mpg[copied_mpg['cylinders']==6].shape[0] # total how many records as value_counts dint work so used shape 84 found\n",
    "copied_mpg[copied_mpg['cylinders']==6]"
   ]
  },
  {
   "cell_type": "markdown",
   "id": "5c9b877a",
   "metadata": {},
   "source": [
    "### Use Case : Taking Input from User for Prediction"
   ]
  },
  {
   "cell_type": "code",
   "execution_count": 59,
   "id": "fa8e34ab",
   "metadata": {},
   "outputs": [
    {
     "data": {
      "text/html": [
       "<div>\n",
       "<style scoped>\n",
       "    .dataframe tbody tr th:only-of-type {\n",
       "        vertical-align: middle;\n",
       "    }\n",
       "\n",
       "    .dataframe tbody tr th {\n",
       "        vertical-align: top;\n",
       "    }\n",
       "\n",
       "    .dataframe thead th {\n",
       "        text-align: right;\n",
       "    }\n",
       "</style>\n",
       "<table border=\"1\" class=\"dataframe\">\n",
       "  <thead>\n",
       "    <tr style=\"text-align: right;\">\n",
       "      <th></th>\n",
       "      <th>Salary</th>\n",
       "      <th>Performance</th>\n",
       "      <th>Experience</th>\n",
       "      <th>Bonus</th>\n",
       "    </tr>\n",
       "  </thead>\n",
       "  <tbody>\n",
       "    <tr>\n",
       "      <th>0</th>\n",
       "      <td>10</td>\n",
       "      <td>A</td>\n",
       "      <td>1</td>\n",
       "      <td>12</td>\n",
       "    </tr>\n",
       "    <tr>\n",
       "      <th>1</th>\n",
       "      <td>20</td>\n",
       "      <td>B</td>\n",
       "      <td>2</td>\n",
       "      <td>7</td>\n",
       "    </tr>\n",
       "    <tr>\n",
       "      <th>2</th>\n",
       "      <td>30</td>\n",
       "      <td>C</td>\n",
       "      <td>3</td>\n",
       "      <td>5</td>\n",
       "    </tr>\n",
       "    <tr>\n",
       "      <th>3</th>\n",
       "      <td>40</td>\n",
       "      <td>D</td>\n",
       "      <td>4</td>\n",
       "      <td>2</td>\n",
       "    </tr>\n",
       "    <tr>\n",
       "      <th>4</th>\n",
       "      <td>50</td>\n",
       "      <td>A</td>\n",
       "      <td>5</td>\n",
       "      <td>19</td>\n",
       "    </tr>\n",
       "  </tbody>\n",
       "</table>\n",
       "</div>"
      ],
      "text/plain": [
       "   Salary Performance  Experience  Bonus\n",
       "0      10           A           1     12\n",
       "1      20           B           2      7\n",
       "2      30           C           3      5\n",
       "3      40           D           4      2\n",
       "4      50           A           5     19"
      ]
     },
     "execution_count": 59,
     "metadata": {},
     "output_type": "execute_result"
    }
   ],
   "source": [
    "# Problem Statement: Predict Bonus to be given to Employee based on Salary, Performance, Experience \n",
    "office=pd.DataFrame({'Salary':[10,20,30,40,50],'Performance':['A','B','C','D','A'],'Experience':[1,2,3,4,5],'Bonus':[12,7,5,2,19]})\n",
    "office"
   ]
  },
  {
   "cell_type": "code",
   "execution_count": 60,
   "id": "7251d770",
   "metadata": {},
   "outputs": [
    {
     "data": {
      "text/html": [
       "<div>\n",
       "<style scoped>\n",
       "    .dataframe tbody tr th:only-of-type {\n",
       "        vertical-align: middle;\n",
       "    }\n",
       "\n",
       "    .dataframe tbody tr th {\n",
       "        vertical-align: top;\n",
       "    }\n",
       "\n",
       "    .dataframe thead th {\n",
       "        text-align: right;\n",
       "    }\n",
       "</style>\n",
       "<table border=\"1\" class=\"dataframe\">\n",
       "  <thead>\n",
       "    <tr style=\"text-align: right;\">\n",
       "      <th></th>\n",
       "      <th>Salary</th>\n",
       "      <th>Performance</th>\n",
       "      <th>Experience</th>\n",
       "      <th>Bonus</th>\n",
       "    </tr>\n",
       "  </thead>\n",
       "  <tbody>\n",
       "    <tr>\n",
       "      <th>0</th>\n",
       "      <td>10</td>\n",
       "      <td>1.00</td>\n",
       "      <td>1</td>\n",
       "      <td>12</td>\n",
       "    </tr>\n",
       "    <tr>\n",
       "      <th>1</th>\n",
       "      <td>20</td>\n",
       "      <td>0.75</td>\n",
       "      <td>2</td>\n",
       "      <td>7</td>\n",
       "    </tr>\n",
       "    <tr>\n",
       "      <th>2</th>\n",
       "      <td>30</td>\n",
       "      <td>0.50</td>\n",
       "      <td>3</td>\n",
       "      <td>5</td>\n",
       "    </tr>\n",
       "    <tr>\n",
       "      <th>3</th>\n",
       "      <td>40</td>\n",
       "      <td>0.25</td>\n",
       "      <td>4</td>\n",
       "      <td>2</td>\n",
       "    </tr>\n",
       "    <tr>\n",
       "      <th>4</th>\n",
       "      <td>50</td>\n",
       "      <td>1.00</td>\n",
       "      <td>5</td>\n",
       "      <td>19</td>\n",
       "    </tr>\n",
       "  </tbody>\n",
       "</table>\n",
       "</div>"
      ],
      "text/plain": [
       "   Salary  Performance  Experience  Bonus\n",
       "0      10         1.00           1     12\n",
       "1      20         0.75           2      7\n",
       "2      30         0.50           3      5\n",
       "3      40         0.25           4      2\n",
       "4      50         1.00           5     19"
      ]
     },
     "execution_count": 60,
     "metadata": {},
     "output_type": "execute_result"
    }
   ],
   "source": [
    "# Converting Grades into Numerics\n",
    "Score_Values={'A':1,'B':0.75,'C':0.5,'D':0.25}\n",
    "office['Performance']=office['Performance'].map(Score_Values)\n",
    "office"
   ]
  },
  {
   "cell_type": "code",
   "execution_count": 64,
   "id": "5feecfc2",
   "metadata": {},
   "outputs": [
    {
     "data": {
      "text/html": [
       "<div>\n",
       "<style scoped>\n",
       "    .dataframe tbody tr th:only-of-type {\n",
       "        vertical-align: middle;\n",
       "    }\n",
       "\n",
       "    .dataframe tbody tr th {\n",
       "        vertical-align: top;\n",
       "    }\n",
       "\n",
       "    .dataframe thead th {\n",
       "        text-align: right;\n",
       "    }\n",
       "</style>\n",
       "<table border=\"1\" class=\"dataframe\">\n",
       "  <thead>\n",
       "    <tr style=\"text-align: right;\">\n",
       "      <th></th>\n",
       "      <th>Salary</th>\n",
       "      <th>Performance</th>\n",
       "      <th>Experience</th>\n",
       "    </tr>\n",
       "  </thead>\n",
       "  <tbody>\n",
       "    <tr>\n",
       "      <th>0</th>\n",
       "      <td>10</td>\n",
       "      <td>1.00</td>\n",
       "      <td>1</td>\n",
       "    </tr>\n",
       "    <tr>\n",
       "      <th>1</th>\n",
       "      <td>20</td>\n",
       "      <td>0.75</td>\n",
       "      <td>2</td>\n",
       "    </tr>\n",
       "    <tr>\n",
       "      <th>2</th>\n",
       "      <td>30</td>\n",
       "      <td>0.50</td>\n",
       "      <td>3</td>\n",
       "    </tr>\n",
       "    <tr>\n",
       "      <th>3</th>\n",
       "      <td>40</td>\n",
       "      <td>0.25</td>\n",
       "      <td>4</td>\n",
       "    </tr>\n",
       "    <tr>\n",
       "      <th>4</th>\n",
       "      <td>50</td>\n",
       "      <td>1.00</td>\n",
       "      <td>5</td>\n",
       "    </tr>\n",
       "  </tbody>\n",
       "</table>\n",
       "</div>"
      ],
      "text/plain": [
       "   Salary  Performance  Experience\n",
       "0      10         1.00           1\n",
       "1      20         0.75           2\n",
       "2      30         0.50           3\n",
       "3      40         0.25           4\n",
       "4      50         1.00           5"
      ]
     },
     "execution_count": 64,
     "metadata": {},
     "output_type": "execute_result"
    }
   ],
   "source": [
    "# Separating X and Y\n",
    "X=office[['Salary','Performance','Experience']]\n",
    "X"
   ]
  },
  {
   "cell_type": "code",
   "execution_count": 65,
   "id": "c5b1ba7d",
   "metadata": {},
   "outputs": [
    {
     "data": {
      "text/plain": [
       "0    12\n",
       "1     7\n",
       "2     5\n",
       "3     2\n",
       "4    19\n",
       "Name: Bonus, dtype: int64"
      ]
     },
     "execution_count": 65,
     "metadata": {},
     "output_type": "execute_result"
    }
   ],
   "source": [
    "Y=office['Bonus']\n",
    "Y"
   ]
  },
  {
   "cell_type": "code",
   "execution_count": 66,
   "id": "2205e659",
   "metadata": {},
   "outputs": [
    {
     "data": {
      "text/plain": [
       "LinearRegression()"
      ]
     },
     "execution_count": 66,
     "metadata": {},
     "output_type": "execute_result"
    }
   ],
   "source": [
    "# Regression Modelling\n",
    "modelXY=LinearRegression()\n",
    "modelXY.fit(X,Y)"
   ]
  },
  {
   "cell_type": "code",
   "execution_count": 68,
   "id": "57007d6b",
   "metadata": {},
   "outputs": [
    {
     "data": {
      "text/html": [
       "<div>\n",
       "<style scoped>\n",
       "    .dataframe tbody tr th:only-of-type {\n",
       "        vertical-align: middle;\n",
       "    }\n",
       "\n",
       "    .dataframe tbody tr th {\n",
       "        vertical-align: top;\n",
       "    }\n",
       "\n",
       "    .dataframe thead th {\n",
       "        text-align: right;\n",
       "    }\n",
       "</style>\n",
       "<table border=\"1\" class=\"dataframe\">\n",
       "  <thead>\n",
       "    <tr style=\"text-align: right;\">\n",
       "      <th></th>\n",
       "      <th>Salary</th>\n",
       "      <th>Performance</th>\n",
       "      <th>Experience</th>\n",
       "      <th>Bonus</th>\n",
       "      <th>Predicted_Bonus</th>\n",
       "    </tr>\n",
       "  </thead>\n",
       "  <tbody>\n",
       "    <tr>\n",
       "      <th>0</th>\n",
       "      <td>10</td>\n",
       "      <td>1.00</td>\n",
       "      <td>1</td>\n",
       "      <td>12</td>\n",
       "      <td>11.3</td>\n",
       "    </tr>\n",
       "    <tr>\n",
       "      <th>1</th>\n",
       "      <td>20</td>\n",
       "      <td>0.75</td>\n",
       "      <td>2</td>\n",
       "      <td>7</td>\n",
       "      <td>8.1</td>\n",
       "    </tr>\n",
       "    <tr>\n",
       "      <th>2</th>\n",
       "      <td>30</td>\n",
       "      <td>0.50</td>\n",
       "      <td>3</td>\n",
       "      <td>5</td>\n",
       "      <td>4.9</td>\n",
       "    </tr>\n",
       "    <tr>\n",
       "      <th>3</th>\n",
       "      <td>40</td>\n",
       "      <td>0.25</td>\n",
       "      <td>4</td>\n",
       "      <td>2</td>\n",
       "      <td>1.7</td>\n",
       "    </tr>\n",
       "    <tr>\n",
       "      <th>4</th>\n",
       "      <td>50</td>\n",
       "      <td>1.00</td>\n",
       "      <td>5</td>\n",
       "      <td>19</td>\n",
       "      <td>19.0</td>\n",
       "    </tr>\n",
       "  </tbody>\n",
       "</table>\n",
       "</div>"
      ],
      "text/plain": [
       "   Salary  Performance  Experience  Bonus  Predicted_Bonus\n",
       "0      10         1.00           1     12             11.3\n",
       "1      20         0.75           2      7              8.1\n",
       "2      30         0.50           3      5              4.9\n",
       "3      40         0.25           4      2              1.7\n",
       "4      50         1.00           5     19             19.0"
      ]
     },
     "execution_count": 68,
     "metadata": {},
     "output_type": "execute_result"
    }
   ],
   "source": [
    "# Predicting History Values\n",
    "office['Predicted_Bonus']=modelXY.predict(X)\n",
    "office"
   ]
  },
  {
   "cell_type": "code",
   "execution_count": null,
   "id": "be5334d8",
   "metadata": {},
   "outputs": [],
   "source": [
    "# Taking User Input For Current or Future Prediction\n",
    "salary=int(input(\"Enter Employee Salary: \"))\n",
    "performance=input(\"Enter Employee Perfromance Grade: A - D: \")\n",
    "experience=int(input(\"Enter Total Years of Experience of the Employee: \"))\n",
    "\n",
    "# Making a data frame\n",
    "m=pd.DataFrame({'Salary':[salary],'Performance':[performance],'Experience':[experience]})\n",
    "m"
   ]
  },
  {
   "cell_type": "code",
   "execution_count": 78,
   "id": "d1b059df",
   "metadata": {},
   "outputs": [
    {
     "data": {
      "text/html": [
       "<div>\n",
       "<style scoped>\n",
       "    .dataframe tbody tr th:only-of-type {\n",
       "        vertical-align: middle;\n",
       "    }\n",
       "\n",
       "    .dataframe tbody tr th {\n",
       "        vertical-align: top;\n",
       "    }\n",
       "\n",
       "    .dataframe thead th {\n",
       "        text-align: right;\n",
       "    }\n",
       "</style>\n",
       "<table border=\"1\" class=\"dataframe\">\n",
       "  <thead>\n",
       "    <tr style=\"text-align: right;\">\n",
       "      <th></th>\n",
       "      <th>Salary</th>\n",
       "      <th>Performance</th>\n",
       "      <th>Experience</th>\n",
       "    </tr>\n",
       "  </thead>\n",
       "  <tbody>\n",
       "    <tr>\n",
       "      <th>0</th>\n",
       "      <td>21</td>\n",
       "      <td>1.0</td>\n",
       "      <td>2</td>\n",
       "    </tr>\n",
       "  </tbody>\n",
       "</table>\n",
       "</div>"
      ],
      "text/plain": [
       "   Salary  Performance  Experience\n",
       "0      21          1.0           2"
      ]
     },
     "execution_count": 78,
     "metadata": {},
     "output_type": "execute_result"
    }
   ],
   "source": [
    "# Transforming grade to score\n",
    "m['Performance']=m['Performance'].map(Score_Values)\n",
    "m"
   ]
  },
  {
   "cell_type": "code",
   "execution_count": 79,
   "id": "c10c2bcb",
   "metadata": {},
   "outputs": [
    {
     "data": {
      "text/plain": [
       "array([13.41559406])"
      ]
     },
     "execution_count": 79,
     "metadata": {},
     "output_type": "execute_result"
    }
   ],
   "source": [
    "# Predicting from User Values\n",
    "modelXY.predict(m)"
   ]
  },
  {
   "cell_type": "markdown",
   "id": "c662d7be",
   "metadata": {},
   "source": [
    "# 3. Polynomial Regression"
   ]
  },
  {
   "cell_type": "markdown",
   "id": "d1bacf65",
   "metadata": {},
   "source": [
    "#### Importing Neccesary Packages"
   ]
  },
  {
   "cell_type": "code",
   "execution_count": 36,
   "id": "a4c2773b",
   "metadata": {},
   "outputs": [],
   "source": [
    "# Import math sqrt for square root finding \n",
    "from math import sqrt\n",
    "\n",
    "# Import pandas for dataframe and matplotlib for plotting\n",
    "import pandas as pd\n",
    "import matplotlib.pyplot as mp\n",
    "\n",
    "# Import scikit learn LinearRegression, PolynomialFeatures and mean_squared_error \n",
    "from sklearn.linear_model import LinearRegression\n",
    "from sklearn.preprocessing import PolynomialFeatures\n",
    "from sklearn.metrics import mean_squared_error"
   ]
  },
  {
   "cell_type": "markdown",
   "id": "5563f189",
   "metadata": {},
   "source": [
    "#### Creating DataFrame"
   ]
  },
  {
   "cell_type": "code",
   "execution_count": 37,
   "id": "a58871f3",
   "metadata": {
    "scrolled": true
   },
   "outputs": [
    {
     "data": {
      "text/html": [
       "<div>\n",
       "<style scoped>\n",
       "    .dataframe tbody tr th:only-of-type {\n",
       "        vertical-align: middle;\n",
       "    }\n",
       "\n",
       "    .dataframe tbody tr th {\n",
       "        vertical-align: top;\n",
       "    }\n",
       "\n",
       "    .dataframe thead th {\n",
       "        text-align: right;\n",
       "    }\n",
       "</style>\n",
       "<table border=\"1\" class=\"dataframe\">\n",
       "  <thead>\n",
       "    <tr style=\"text-align: right;\">\n",
       "      <th></th>\n",
       "      <th>temp</th>\n",
       "      <th>pressure</th>\n",
       "    </tr>\n",
       "  </thead>\n",
       "  <tbody>\n",
       "    <tr>\n",
       "      <th>0</th>\n",
       "      <td>0</td>\n",
       "      <td>0.0005</td>\n",
       "    </tr>\n",
       "    <tr>\n",
       "      <th>1</th>\n",
       "      <td>10</td>\n",
       "      <td>0.0012</td>\n",
       "    </tr>\n",
       "    <tr>\n",
       "      <th>2</th>\n",
       "      <td>20</td>\n",
       "      <td>0.0350</td>\n",
       "    </tr>\n",
       "    <tr>\n",
       "      <th>3</th>\n",
       "      <td>40</td>\n",
       "      <td>0.2000</td>\n",
       "    </tr>\n",
       "    <tr>\n",
       "      <th>4</th>\n",
       "      <td>60</td>\n",
       "      <td>1.0000</td>\n",
       "    </tr>\n",
       "    <tr>\n",
       "      <th>5</th>\n",
       "      <td>80</td>\n",
       "      <td>1.2000</td>\n",
       "    </tr>\n",
       "    <tr>\n",
       "      <th>6</th>\n",
       "      <td>100</td>\n",
       "      <td>1.5000</td>\n",
       "    </tr>\n",
       "  </tbody>\n",
       "</table>\n",
       "</div>"
      ],
      "text/plain": [
       "   temp  pressure\n",
       "0     0    0.0005\n",
       "1    10    0.0012\n",
       "2    20    0.0350\n",
       "3    40    0.2000\n",
       "4    60    1.0000\n",
       "5    80    1.2000\n",
       "6   100    1.5000"
      ]
     },
     "execution_count": 37,
     "metadata": {},
     "output_type": "execute_result"
    }
   ],
   "source": [
    "data = pd.DataFrame({'temp':[0,10,20,40,60,80,100],'pressure':[0.0005,0.0012,0.035,0.20,1,1.2,1.5]})\n",
    "data"
   ]
  },
  {
   "cell_type": "markdown",
   "id": "c4a06980",
   "metadata": {},
   "source": [
    "#### Reshaping and Separating Values into X3 and Y3"
   ]
  },
  {
   "cell_type": "code",
   "execution_count": 38,
   "id": "a9f2652f",
   "metadata": {},
   "outputs": [
    {
     "data": {
      "text/plain": [
       "array([[  0],\n",
       "       [ 10],\n",
       "       [ 20],\n",
       "       [ 40],\n",
       "       [ 60],\n",
       "       [ 80],\n",
       "       [100]], dtype=int64)"
      ]
     },
     "execution_count": 38,
     "metadata": {},
     "output_type": "execute_result"
    }
   ],
   "source": [
    "x3=data['temp'].values.reshape(-1,1)\n",
    "x3"
   ]
  },
  {
   "cell_type": "code",
   "execution_count": 39,
   "id": "8a65397b",
   "metadata": {},
   "outputs": [
    {
     "data": {
      "text/plain": [
       "array([[5.0e-04],\n",
       "       [1.2e-03],\n",
       "       [3.5e-02],\n",
       "       [2.0e-01],\n",
       "       [1.0e+00],\n",
       "       [1.2e+00],\n",
       "       [1.5e+00]])"
      ]
     },
     "execution_count": 39,
     "metadata": {},
     "output_type": "execute_result"
    }
   ],
   "source": [
    "y3=data['pressure'].values.reshape(-1,1)\n",
    "y3"
   ]
  },
  {
   "cell_type": "markdown",
   "id": "4a7f6561",
   "metadata": {},
   "source": [
    "#### Making Polynomial Equation of Degree 4"
   ]
  },
  {
   "cell_type": "code",
   "execution_count": 40,
   "id": "9c776d69",
   "metadata": {},
   "outputs": [
    {
     "data": {
      "text/plain": [
       "array([[1.000e+00, 0.000e+00, 0.000e+00, 0.000e+00, 0.000e+00],\n",
       "       [1.000e+00, 1.000e+01, 1.000e+02, 1.000e+03, 1.000e+04],\n",
       "       [1.000e+00, 2.000e+01, 4.000e+02, 8.000e+03, 1.600e+05],\n",
       "       [1.000e+00, 4.000e+01, 1.600e+03, 6.400e+04, 2.560e+06],\n",
       "       [1.000e+00, 6.000e+01, 3.600e+03, 2.160e+05, 1.296e+07],\n",
       "       [1.000e+00, 8.000e+01, 6.400e+03, 5.120e+05, 4.096e+07],\n",
       "       [1.000e+00, 1.000e+02, 1.000e+04, 1.000e+06, 1.000e+08]])"
      ]
     },
     "execution_count": 40,
     "metadata": {},
     "output_type": "execute_result"
    }
   ],
   "source": [
    "poly=PolynomialFeatures(degree=4) \n",
    "x3_poly=poly.fit_transform(x3)      \n",
    "x3_poly"
   ]
  },
  {
   "cell_type": "markdown",
   "id": "2e75b15f",
   "metadata": {},
   "source": [
    "#### Training Linear Regression from Polynomial Values of X"
   ]
  },
  {
   "cell_type": "code",
   "execution_count": 41,
   "id": "d49f1169",
   "metadata": {},
   "outputs": [
    {
     "name": "stdout",
     "output_type": "stream",
     "text": [
      "Training Completed\n"
     ]
    }
   ],
   "source": [
    "model3=LinearRegression()\n",
    "model3_train=model3.fit(x3_poly,y3)\n",
    "print(\"Training Completed\")"
   ]
  },
  {
   "cell_type": "markdown",
   "id": "92831c31",
   "metadata": {},
   "source": [
    "#### Predicting Automatically rather than Equation of Regression"
   ]
  },
  {
   "cell_type": "code",
   "execution_count": 42,
   "id": "d63cc00e",
   "metadata": {},
   "outputs": [
    {
     "data": {
      "text/plain": [
       "array([[ 3.02247005e-02],\n",
       "       [-4.53647221e-02],\n",
       "       [ 9.69368907e-04],\n",
       "       [ 3.44456509e-01],\n",
       "       [ 8.40264441e-01],\n",
       "       [ 1.28314186e+00],\n",
       "       [ 1.48300784e+00]])"
      ]
     },
     "execution_count": 42,
     "metadata": {},
     "output_type": "execute_result"
    }
   ],
   "source": [
    "pred=model3_train.predict(poly.transform(x3))\n",
    "pred"
   ]
  },
  {
   "cell_type": "markdown",
   "id": "66ee9a3f",
   "metadata": {},
   "source": [
    "#### Comparing Actual Pressure vs Predicted Pressure Closeness"
   ]
  },
  {
   "cell_type": "code",
   "execution_count": 43,
   "id": "2c88395e",
   "metadata": {},
   "outputs": [
    {
     "data": {
      "text/html": [
       "<div>\n",
       "<style scoped>\n",
       "    .dataframe tbody tr th:only-of-type {\n",
       "        vertical-align: middle;\n",
       "    }\n",
       "\n",
       "    .dataframe tbody tr th {\n",
       "        vertical-align: top;\n",
       "    }\n",
       "\n",
       "    .dataframe thead th {\n",
       "        text-align: right;\n",
       "    }\n",
       "</style>\n",
       "<table border=\"1\" class=\"dataframe\">\n",
       "  <thead>\n",
       "    <tr style=\"text-align: right;\">\n",
       "      <th></th>\n",
       "      <th>temp</th>\n",
       "      <th>pressure</th>\n",
       "      <th>pred_pressure</th>\n",
       "    </tr>\n",
       "  </thead>\n",
       "  <tbody>\n",
       "    <tr>\n",
       "      <th>0</th>\n",
       "      <td>0</td>\n",
       "      <td>0.0005</td>\n",
       "      <td>0.030225</td>\n",
       "    </tr>\n",
       "    <tr>\n",
       "      <th>1</th>\n",
       "      <td>10</td>\n",
       "      <td>0.0012</td>\n",
       "      <td>-0.045365</td>\n",
       "    </tr>\n",
       "    <tr>\n",
       "      <th>2</th>\n",
       "      <td>20</td>\n",
       "      <td>0.0350</td>\n",
       "      <td>0.000969</td>\n",
       "    </tr>\n",
       "    <tr>\n",
       "      <th>3</th>\n",
       "      <td>40</td>\n",
       "      <td>0.2000</td>\n",
       "      <td>0.344457</td>\n",
       "    </tr>\n",
       "    <tr>\n",
       "      <th>4</th>\n",
       "      <td>60</td>\n",
       "      <td>1.0000</td>\n",
       "      <td>0.840264</td>\n",
       "    </tr>\n",
       "    <tr>\n",
       "      <th>5</th>\n",
       "      <td>80</td>\n",
       "      <td>1.2000</td>\n",
       "      <td>1.283142</td>\n",
       "    </tr>\n",
       "    <tr>\n",
       "      <th>6</th>\n",
       "      <td>100</td>\n",
       "      <td>1.5000</td>\n",
       "      <td>1.483008</td>\n",
       "    </tr>\n",
       "  </tbody>\n",
       "</table>\n",
       "</div>"
      ],
      "text/plain": [
       "   temp  pressure  pred_pressure\n",
       "0     0    0.0005       0.030225\n",
       "1    10    0.0012      -0.045365\n",
       "2    20    0.0350       0.000969\n",
       "3    40    0.2000       0.344457\n",
       "4    60    1.0000       0.840264\n",
       "5    80    1.2000       1.283142\n",
       "6   100    1.5000       1.483008"
      ]
     },
     "execution_count": 43,
     "metadata": {},
     "output_type": "execute_result"
    }
   ],
   "source": [
    "data['pred_pressure']=model3_train.predict(poly.fit_transform(x3))\n",
    "data"
   ]
  },
  {
   "cell_type": "markdown",
   "id": "9ccb004e",
   "metadata": {},
   "source": [
    "#### Error Finding"
   ]
  },
  {
   "cell_type": "code",
   "execution_count": 44,
   "id": "8f7e3604",
   "metadata": {},
   "outputs": [
    {
     "data": {
      "text/plain": [
       "0.00825633561897247"
      ]
     },
     "execution_count": 44,
     "metadata": {},
     "output_type": "execute_result"
    }
   ],
   "source": [
    "mean_squared_error(y3,pred)"
   ]
  },
  {
   "cell_type": "code",
   "execution_count": 45,
   "id": "33fc4149",
   "metadata": {},
   "outputs": [
    {
     "data": {
      "text/plain": [
       "0.09086438036421352"
      ]
     },
     "execution_count": 45,
     "metadata": {},
     "output_type": "execute_result"
    }
   ],
   "source": [
    "sqrt(mean_squared_error(y3,pred))"
   ]
  },
  {
   "cell_type": "markdown",
   "id": "f07e3166",
   "metadata": {},
   "source": [
    "#### Fixed Value and Accuracy Percentage ( R Sqaure Value )"
   ]
  },
  {
   "cell_type": "code",
   "execution_count": 46,
   "id": "242eb06c",
   "metadata": {},
   "outputs": [
    {
     "data": {
      "text/plain": [
       "array([0.0302247])"
      ]
     },
     "execution_count": 46,
     "metadata": {},
     "output_type": "execute_result"
    }
   ],
   "source": [
    "model3_train.intercept_"
   ]
  },
  {
   "cell_type": "code",
   "execution_count": 47,
   "id": "773dffe8",
   "metadata": {},
   "outputs": [
    {
     "data": {
      "text/plain": [
       "0.9770409791789565"
      ]
     },
     "execution_count": 47,
     "metadata": {},
     "output_type": "execute_result"
    }
   ],
   "source": [
    "model3_train.score(x3_poly,y3)"
   ]
  },
  {
   "cell_type": "markdown",
   "id": "9eeb2ffb",
   "metadata": {},
   "source": [
    "#### Plotting Polynomial Regression Graph"
   ]
  },
  {
   "cell_type": "code",
   "execution_count": 48,
   "id": "671831f7",
   "metadata": {},
   "outputs": [
    {
     "data": {
      "text/plain": [
       "[<matplotlib.lines.Line2D at 0x29938ea5e80>]"
      ]
     },
     "execution_count": 48,
     "metadata": {},
     "output_type": "execute_result"
    },
    {
     "data": {
      "image/png": "[encoded data removed]",
      "text/plain": [
       "<Figure size 640x480 with 1 Axes>"
      ]
     },
     "metadata": {},
     "output_type": "display_data"
    }
   ],
   "source": [
    "mp.scatter(x3,y3,color='blue')\n",
    "mp.plot(x3,model3_train.predict(poly.fit_transform(x3)),color='red')"
   ]
  },
  {
   "cell_type": "markdown",
   "id": "5048dad8",
   "metadata": {},
   "source": [
    "#### Predicting from User Values"
   ]
  },
  {
   "cell_type": "code",
   "execution_count": 49,
   "id": "958a5f74",
   "metadata": {},
   "outputs": [
    {
     "data": {
      "text/plain": [
       "array([[12],\n",
       "       [16],\n",
       "       [18],\n",
       "       [20]], dtype=int64)"
      ]
     },
     "execution_count": 49,
     "metadata": {},
     "output_type": "execute_result"
    }
   ],
   "source": [
    "m=pd.Series([12,16,18,20])\n",
    "m=m.values.reshape(-1,1)\n",
    "m"
   ]
  },
  {
   "cell_type": "code",
   "execution_count": 50,
   "id": "bc1466a3",
   "metadata": {},
   "outputs": [
    {
     "data": {
      "text/plain": [
       "array([[-0.04491093],\n",
       "       [-0.03031945],\n",
       "       [-0.01664688],\n",
       "       [ 0.00096937]])"
      ]
     },
     "execution_count": 50,
     "metadata": {},
     "output_type": "execute_result"
    }
   ],
   "source": [
    "pred1=model3_train.predict(poly.transform(m))\n",
    "pred1"
   ]
  }
 ],
 "metadata": {
  "kernelspec": {
   "display_name": "Python 3 (ipykernel)",
   "language": "python",
   "name": "python3"
  },
  "language_info": {
   "codemirror_mode": {
    "name": "ipython",
    "version": 3
   },
   "file_extension": ".py",
   "mimetype": "text/x-python",
   "name": "python",
   "nbconvert_exporter": "python",
   "pygments_lexer": "ipython3",
   "version": "3.9.13"
  }
 },
 "nbformat": 4,
 "nbformat_minor": 5
}
